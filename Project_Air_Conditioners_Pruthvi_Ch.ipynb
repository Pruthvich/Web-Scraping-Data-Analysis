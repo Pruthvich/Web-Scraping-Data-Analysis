{
 "cells": [
  {
   "cell_type": "code",
   "execution_count": 3,
   "metadata": {},
   "outputs": [],
   "source": [
    "import warnings\n",
    "warnings.filterwarnings('ignore')\n",
    "\n",
    "import requests\n",
    "from bs4 import BeautifulSoup\n",
    "import re\n",
    "import pandas as pd\n",
    "import matplotlib.pyplot as plt\n",
    "import seaborn as sns\n",
    "\n",
    "import re\n",
    "import time\n",
    "import numpy as np\n",
    "\n",
    "from IPython.core.interactiveshell import InteractiveShell\n",
    "InteractiveShell.ast_node_interactivity = 'all'"
   ]
  },
  {
   "cell_type": "code",
   "execution_count": 4,
   "metadata": {},
   "outputs": [],
   "source": [
    "URL=\"https://www.flipkart.com/search?q=air+conditioners&sid=j9e%2Cabm%2Cc54&as=on&as-show=on&otracker=AS_QueryStore_OrganicAutoSuggest_1_3_na_na_ps&otracker1=AS_QueryStore_OrganicAutoSuggest_1_3_na_na_ps&as-pos=1&as-type=HISTORY&suggestionId=air+conditioners%7CAir+Conditioners&requestId=a2bbdff8-221c-418d-acf8-1276341845d9\""
   ]
  },
  {
   "cell_type": "code",
   "execution_count": 948,
   "metadata": {},
   "outputs": [],
   "source": [
    "Page=requests.get(URL)"
   ]
  },
  {
   "cell_type": "code",
   "execution_count": 949,
   "metadata": {},
   "outputs": [
    {
     "data": {
      "text/plain": [
       "200"
      ]
     },
     "execution_count": 949,
     "metadata": {},
     "output_type": "execute_result"
    }
   ],
   "source": [
    "Page.status_code"
   ]
  },
  {
   "cell_type": "code",
   "execution_count": null,
   "metadata": {},
   "outputs": [],
   "source": []
  },
  {
   "cell_type": "code",
   "execution_count": 951,
   "metadata": {},
   "outputs": [],
   "source": [
    "Pagecontent=Page.text"
   ]
  },
  {
   "cell_type": "code",
   "execution_count": 952,
   "metadata": {},
   "outputs": [],
   "source": [
    "soup=BeautifulSoup(Pagecontent)"
   ]
  },
  {
   "cell_type": "code",
   "execution_count": null,
   "metadata": {},
   "outputs": [],
   "source": []
  },
  {
   "cell_type": "markdown",
   "metadata": {},
   "source": [
    "## Web-Scraping The Air Conditioners Data through the Website"
   ]
  },
  {
   "cell_type": "code",
   "execution_count": 956,
   "metadata": {},
   "outputs": [
    {
     "name": "stdout",
     "output_type": "stream",
     "text": [
      "Page 1 completed in 0.6381089687347412 seconds\n",
      "Page 2 completed in 0.5574245452880859 seconds\n",
      "Page 3 completed in 0.6474089622497559 seconds\n",
      "Page 4 completed in 0.6599900722503662 seconds\n",
      "Page 5 completed in 0.5141201019287109 seconds\n",
      "Page 6 completed in 0.5507454872131348 seconds\n",
      "Page 7 completed in 0.5688588619232178 seconds\n",
      "Page 8 completed in 0.5055506229400635 seconds\n",
      "Page 9 completed in 0.5258705615997314 seconds\n",
      "Page 10 completed in 0.46114540100097656 seconds\n",
      "Page 11 completed in 1.4985718727111816 seconds\n",
      "Page 12 completed in 0.6827061176300049 seconds\n",
      "Page 13 completed in 0.5148355960845947 seconds\n",
      "Page 14 completed in 0.47760748863220215 seconds\n",
      "Page 15 completed in 0.5588595867156982 seconds\n",
      "Page 16 completed in 0.502779483795166 seconds\n",
      "Page 17 completed in 0.5142087936401367 seconds\n",
      "Page 18 completed in 0.5721035003662109 seconds\n",
      "Page 19 completed in 0.5495197772979736 seconds\n"
     ]
    }
   ],
   "source": [
    "\n",
    "AC_Name = [] \n",
    "Price = []\n",
    "Rating = []\n",
    "Specifications = []\n",
    "pagenum = []\n",
    "for i in range(1,20): \n",
    "    start_time = time.time()\n",
    "    URL=\"https://www.flipkart.com/search?q=air+conditioners&sid=j9e%2Cabm%2Cc54&as=on&as-show=on&otracker=AS_QueryStore_OrganicAutoSuggest_1_3_na_na_ps&otracker1=AS_QueryStore_OrganicAutoSuggest_1_3_na_na_ps&as-pos=1&as-type=HISTORY&suggestionId=air+conditioners%7CAir+Conditioners&requestId=a2bbdff8-221c-418d-acf8-1276341845d9&page={}\".format(i)\n",
    "    page = requests.get(URL)\n",
    "    pagecontent = page.text\n",
    "    soup = BeautifulSoup(pagecontent)\n",
    "\n",
    "    for x in soup.find_all('div', attrs={'class':'_3pLy-c row'}):\n",
    "        n= x.find('div', attrs = {'class':'_4rR01T'})\n",
    "        p= x.find('div', attrs = {'class':'_30jeq3 _1_WHN1'})\n",
    "        R = x.find('div', attrs = {'class':'_3LWZlK'})\n",
    "        f= x.find('div', attrs = {'class':'fMghEO'})\n",
    "        \n",
    "        if n is None:\n",
    "            AC_Name.append(np.NaN)\n",
    "        else:\n",
    "            AC_Name.append(n.text)\n",
    "            \n",
    "        if p is None:\n",
    "            Price.append(np.NaN)\n",
    "        else:\n",
    "            Price.append(p.text)\n",
    "            \n",
    "        if R is None:\n",
    "            Rating.append(np.NaN)\n",
    "        else:\n",
    "            Rating.append(R.text)\n",
    "            \n",
    "        if f is None:\n",
    "            Specifications.append(np.NaN)\n",
    "        else:\n",
    "            Specifications.append(f.text)\n",
    "            \n",
    "        pagenum.append(i)\n",
    "    print('Page {} completed in {} seconds'.format(i, time.time()-start_time))\n",
    "   "
   ]
  },
  {
   "cell_type": "code",
   "execution_count": 957,
   "metadata": {},
   "outputs": [
    {
     "data": {
      "text/plain": [
       "456"
      ]
     },
     "execution_count": 957,
     "metadata": {},
     "output_type": "execute_result"
    },
    {
     "data": {
      "text/plain": [
       "456"
      ]
     },
     "execution_count": 957,
     "metadata": {},
     "output_type": "execute_result"
    },
    {
     "data": {
      "text/plain": [
       "456"
      ]
     },
     "execution_count": 957,
     "metadata": {},
     "output_type": "execute_result"
    },
    {
     "data": {
      "text/plain": [
       "456"
      ]
     },
     "execution_count": 957,
     "metadata": {},
     "output_type": "execute_result"
    }
   ],
   "source": [
    "#Finding the len of each List\n",
    "len(AC_Name)\n",
    "len(Price)\n",
    "len(Rating)\n",
    "len(Specifications)"
   ]
  },
  {
   "cell_type": "code",
   "execution_count": 958,
   "metadata": {},
   "outputs": [],
   "source": [
    "#creating a DataFrame\n",
    "ac=pd.DataFrame({\"Model\":AC_Name,\"Price\":Price,\"Rating\":Rating,\"Specs\":Specifications})"
   ]
  },
  {
   "cell_type": "code",
   "execution_count": 959,
   "metadata": {},
   "outputs": [
    {
     "data": {
      "text/html": [
       "<div>\n",
       "<style scoped>\n",
       "    .dataframe tbody tr th:only-of-type {\n",
       "        vertical-align: middle;\n",
       "    }\n",
       "\n",
       "    .dataframe tbody tr th {\n",
       "        vertical-align: top;\n",
       "    }\n",
       "\n",
       "    .dataframe thead th {\n",
       "        text-align: right;\n",
       "    }\n",
       "</style>\n",
       "<table border=\"1\" class=\"dataframe\">\n",
       "  <thead>\n",
       "    <tr style=\"text-align: right;\">\n",
       "      <th></th>\n",
       "      <th>Model</th>\n",
       "      <th>Price</th>\n",
       "      <th>Rating</th>\n",
       "      <th>Specs</th>\n",
       "    </tr>\n",
       "  </thead>\n",
       "  <tbody>\n",
       "    <tr>\n",
       "      <th>0</th>\n",
       "      <td>CARRIER 1.2 Ton 5 Star Split Inverter AC  - White</td>\n",
       "      <td>₹33,990</td>\n",
       "      <td>4.2</td>\n",
       "      <td>Condenser Coil: CopperPower Consumption: 1050 ...</td>\n",
       "    </tr>\n",
       "    <tr>\n",
       "      <th>1</th>\n",
       "      <td>CARRIER 4 in 1 Convertible Cooling 1.5 Ton 5 S...</td>\n",
       "      <td>₹39,990</td>\n",
       "      <td>4.2</td>\n",
       "      <td>Condenser Coil: CopperPower Consumption: 1500 ...</td>\n",
       "    </tr>\n",
       "    <tr>\n",
       "      <th>2</th>\n",
       "      <td>SAMSUNG 1.5 Ton 3 Star Split Inverter AC  - Wh...</td>\n",
       "      <td>₹29,990</td>\n",
       "      <td>4.2</td>\n",
       "      <td>Condenser Coil: CopperPower Consumption: 1748 ...</td>\n",
       "    </tr>\n",
       "    <tr>\n",
       "      <th>3</th>\n",
       "      <td>Midea 1 Ton 3 Star Split AC  - White</td>\n",
       "      <td>₹21,990</td>\n",
       "      <td>4.3</td>\n",
       "      <td>Condenser Coil: CopperPower Consumption: 980 W...</td>\n",
       "    </tr>\n",
       "    <tr>\n",
       "      <th>4</th>\n",
       "      <td>MarQ By Flipkart 1 Ton 3 Star Split Inverter A...</td>\n",
       "      <td>₹20,990</td>\n",
       "      <td>4.3</td>\n",
       "      <td>Condenser Coil: CopperPower Consumption: 1110 ...</td>\n",
       "    </tr>\n",
       "  </tbody>\n",
       "</table>\n",
       "</div>"
      ],
      "text/plain": [
       "                                               Model    Price Rating  \\\n",
       "0  CARRIER 1.2 Ton 5 Star Split Inverter AC  - White  ₹33,990    4.2   \n",
       "1  CARRIER 4 in 1 Convertible Cooling 1.5 Ton 5 S...  ₹39,990    4.2   \n",
       "2  SAMSUNG 1.5 Ton 3 Star Split Inverter AC  - Wh...  ₹29,990    4.2   \n",
       "3               Midea 1 Ton 3 Star Split AC  - White  ₹21,990    4.3   \n",
       "4  MarQ By Flipkart 1 Ton 3 Star Split Inverter A...  ₹20,990    4.3   \n",
       "\n",
       "                                               Specs  \n",
       "0  Condenser Coil: CopperPower Consumption: 1050 ...  \n",
       "1  Condenser Coil: CopperPower Consumption: 1500 ...  \n",
       "2  Condenser Coil: CopperPower Consumption: 1748 ...  \n",
       "3  Condenser Coil: CopperPower Consumption: 980 W...  \n",
       "4  Condenser Coil: CopperPower Consumption: 1110 ...  "
      ]
     },
     "execution_count": 959,
     "metadata": {},
     "output_type": "execute_result"
    }
   ],
   "source": [
    "ac.head()"
   ]
  },
  {
   "cell_type": "code",
   "execution_count": 960,
   "metadata": {},
   "outputs": [
    {
     "data": {
      "text/plain": [
       "['CARRIER']"
      ]
     },
     "execution_count": 960,
     "metadata": {},
     "output_type": "execute_result"
    }
   ],
   "source": [
    "\n",
    "regex=\"^\\w+\"\n",
    "re.findall(regex,ac[\"Model\"][0])"
   ]
  },
  {
   "cell_type": "code",
   "execution_count": 961,
   "metadata": {},
   "outputs": [],
   "source": [
    "# Creating a Brand column\n",
    "regex=\"^\\w+\"\n",
    "ac[\"Brand\"]=ac[\"Model\"].apply(lambda x:\" \".join(re.compile(regex).findall(x)))"
   ]
  },
  {
   "cell_type": "code",
   "execution_count": 962,
   "metadata": {},
   "outputs": [],
   "source": [
    "\n",
    "b=[]\n",
    "for i in ac[\"Brand\"]:\n",
    "    if(i==\"Blue\"):\n",
    "        b.append(\"Blue Star\")\n",
    "    elif(i==\"O\"):\n",
    "        b.append(\"O-General\")\n",
    "    else:\n",
    "        b.append(i)\n",
    "        "
   ]
  },
  {
   "cell_type": "code",
   "execution_count": 963,
   "metadata": {},
   "outputs": [],
   "source": [
    "ac[\"Brand\"]=b"
   ]
  },
  {
   "cell_type": "code",
   "execution_count": null,
   "metadata": {},
   "outputs": [],
   "source": []
  },
  {
   "cell_type": "code",
   "execution_count": 964,
   "metadata": {},
   "outputs": [
    {
     "data": {
      "text/html": [
       "<div>\n",
       "<style scoped>\n",
       "    .dataframe tbody tr th:only-of-type {\n",
       "        vertical-align: middle;\n",
       "    }\n",
       "\n",
       "    .dataframe tbody tr th {\n",
       "        vertical-align: top;\n",
       "    }\n",
       "\n",
       "    .dataframe thead th {\n",
       "        text-align: right;\n",
       "    }\n",
       "</style>\n",
       "<table border=\"1\" class=\"dataframe\">\n",
       "  <thead>\n",
       "    <tr style=\"text-align: right;\">\n",
       "      <th></th>\n",
       "      <th>Model</th>\n",
       "      <th>Price</th>\n",
       "      <th>Rating</th>\n",
       "      <th>Specs</th>\n",
       "      <th>Brand</th>\n",
       "    </tr>\n",
       "  </thead>\n",
       "  <tbody>\n",
       "    <tr>\n",
       "      <th>0</th>\n",
       "      <td>CARRIER 1.2 Ton 5 Star Split Inverter AC  - White</td>\n",
       "      <td>₹33,990</td>\n",
       "      <td>4.2</td>\n",
       "      <td>Condenser Coil: CopperPower Consumption: 1050 ...</td>\n",
       "      <td>CARRIER</td>\n",
       "    </tr>\n",
       "    <tr>\n",
       "      <th>1</th>\n",
       "      <td>CARRIER 4 in 1 Convertible Cooling 1.5 Ton 5 S...</td>\n",
       "      <td>₹39,990</td>\n",
       "      <td>4.2</td>\n",
       "      <td>Condenser Coil: CopperPower Consumption: 1500 ...</td>\n",
       "      <td>CARRIER</td>\n",
       "    </tr>\n",
       "    <tr>\n",
       "      <th>2</th>\n",
       "      <td>SAMSUNG 1.5 Ton 3 Star Split Inverter AC  - Wh...</td>\n",
       "      <td>₹29,990</td>\n",
       "      <td>4.2</td>\n",
       "      <td>Condenser Coil: CopperPower Consumption: 1748 ...</td>\n",
       "      <td>SAMSUNG</td>\n",
       "    </tr>\n",
       "    <tr>\n",
       "      <th>3</th>\n",
       "      <td>Midea 1 Ton 3 Star Split AC  - White</td>\n",
       "      <td>₹21,990</td>\n",
       "      <td>4.3</td>\n",
       "      <td>Condenser Coil: CopperPower Consumption: 980 W...</td>\n",
       "      <td>Midea</td>\n",
       "    </tr>\n",
       "    <tr>\n",
       "      <th>4</th>\n",
       "      <td>MarQ By Flipkart 1 Ton 3 Star Split Inverter A...</td>\n",
       "      <td>₹20,990</td>\n",
       "      <td>4.3</td>\n",
       "      <td>Condenser Coil: CopperPower Consumption: 1110 ...</td>\n",
       "      <td>MarQ</td>\n",
       "    </tr>\n",
       "  </tbody>\n",
       "</table>\n",
       "</div>"
      ],
      "text/plain": [
       "                                               Model    Price Rating  \\\n",
       "0  CARRIER 1.2 Ton 5 Star Split Inverter AC  - White  ₹33,990    4.2   \n",
       "1  CARRIER 4 in 1 Convertible Cooling 1.5 Ton 5 S...  ₹39,990    4.2   \n",
       "2  SAMSUNG 1.5 Ton 3 Star Split Inverter AC  - Wh...  ₹29,990    4.2   \n",
       "3               Midea 1 Ton 3 Star Split AC  - White  ₹21,990    4.3   \n",
       "4  MarQ By Flipkart 1 Ton 3 Star Split Inverter A...  ₹20,990    4.3   \n",
       "\n",
       "                                               Specs    Brand  \n",
       "0  Condenser Coil: CopperPower Consumption: 1050 ...  CARRIER  \n",
       "1  Condenser Coil: CopperPower Consumption: 1500 ...  CARRIER  \n",
       "2  Condenser Coil: CopperPower Consumption: 1748 ...  SAMSUNG  \n",
       "3  Condenser Coil: CopperPower Consumption: 980 W...    Midea  \n",
       "4  Condenser Coil: CopperPower Consumption: 1110 ...     MarQ  "
      ]
     },
     "execution_count": 964,
     "metadata": {},
     "output_type": "execute_result"
    }
   ],
   "source": [
    "ac.head()"
   ]
  },
  {
   "cell_type": "code",
   "execution_count": 965,
   "metadata": {},
   "outputs": [],
   "source": [
    "#Converting Price column from Object to Float \n",
    "ac[\"Price\"]=ac[\"Price\"].apply(lambda x:x.replace(\"₹\",\"\").replace(\",\",\"\")).astype(float)"
   ]
  },
  {
   "cell_type": "code",
   "execution_count": 966,
   "metadata": {},
   "outputs": [
    {
     "data": {
      "text/html": [
       "<div>\n",
       "<style scoped>\n",
       "    .dataframe tbody tr th:only-of-type {\n",
       "        vertical-align: middle;\n",
       "    }\n",
       "\n",
       "    .dataframe tbody tr th {\n",
       "        vertical-align: top;\n",
       "    }\n",
       "\n",
       "    .dataframe thead th {\n",
       "        text-align: right;\n",
       "    }\n",
       "</style>\n",
       "<table border=\"1\" class=\"dataframe\">\n",
       "  <thead>\n",
       "    <tr style=\"text-align: right;\">\n",
       "      <th></th>\n",
       "      <th>Model</th>\n",
       "      <th>Price</th>\n",
       "      <th>Rating</th>\n",
       "      <th>Specs</th>\n",
       "      <th>Brand</th>\n",
       "    </tr>\n",
       "  </thead>\n",
       "  <tbody>\n",
       "    <tr>\n",
       "      <th>0</th>\n",
       "      <td>CARRIER 1.2 Ton 5 Star Split Inverter AC  - White</td>\n",
       "      <td>33990.0</td>\n",
       "      <td>4.2</td>\n",
       "      <td>Condenser Coil: CopperPower Consumption: 1050 ...</td>\n",
       "      <td>CARRIER</td>\n",
       "    </tr>\n",
       "    <tr>\n",
       "      <th>1</th>\n",
       "      <td>CARRIER 4 in 1 Convertible Cooling 1.5 Ton 5 S...</td>\n",
       "      <td>39990.0</td>\n",
       "      <td>4.2</td>\n",
       "      <td>Condenser Coil: CopperPower Consumption: 1500 ...</td>\n",
       "      <td>CARRIER</td>\n",
       "    </tr>\n",
       "    <tr>\n",
       "      <th>2</th>\n",
       "      <td>SAMSUNG 1.5 Ton 3 Star Split Inverter AC  - Wh...</td>\n",
       "      <td>29990.0</td>\n",
       "      <td>4.2</td>\n",
       "      <td>Condenser Coil: CopperPower Consumption: 1748 ...</td>\n",
       "      <td>SAMSUNG</td>\n",
       "    </tr>\n",
       "    <tr>\n",
       "      <th>3</th>\n",
       "      <td>Midea 1 Ton 3 Star Split AC  - White</td>\n",
       "      <td>21990.0</td>\n",
       "      <td>4.3</td>\n",
       "      <td>Condenser Coil: CopperPower Consumption: 980 W...</td>\n",
       "      <td>Midea</td>\n",
       "    </tr>\n",
       "    <tr>\n",
       "      <th>4</th>\n",
       "      <td>MarQ By Flipkart 1 Ton 3 Star Split Inverter A...</td>\n",
       "      <td>20990.0</td>\n",
       "      <td>4.3</td>\n",
       "      <td>Condenser Coil: CopperPower Consumption: 1110 ...</td>\n",
       "      <td>MarQ</td>\n",
       "    </tr>\n",
       "  </tbody>\n",
       "</table>\n",
       "</div>"
      ],
      "text/plain": [
       "                                               Model    Price Rating  \\\n",
       "0  CARRIER 1.2 Ton 5 Star Split Inverter AC  - White  33990.0    4.2   \n",
       "1  CARRIER 4 in 1 Convertible Cooling 1.5 Ton 5 S...  39990.0    4.2   \n",
       "2  SAMSUNG 1.5 Ton 3 Star Split Inverter AC  - Wh...  29990.0    4.2   \n",
       "3               Midea 1 Ton 3 Star Split AC  - White  21990.0    4.3   \n",
       "4  MarQ By Flipkart 1 Ton 3 Star Split Inverter A...  20990.0    4.3   \n",
       "\n",
       "                                               Specs    Brand  \n",
       "0  Condenser Coil: CopperPower Consumption: 1050 ...  CARRIER  \n",
       "1  Condenser Coil: CopperPower Consumption: 1500 ...  CARRIER  \n",
       "2  Condenser Coil: CopperPower Consumption: 1748 ...  SAMSUNG  \n",
       "3  Condenser Coil: CopperPower Consumption: 980 W...    Midea  \n",
       "4  Condenser Coil: CopperPower Consumption: 1110 ...     MarQ  "
      ]
     },
     "execution_count": 966,
     "metadata": {},
     "output_type": "execute_result"
    }
   ],
   "source": [
    "ac.head()"
   ]
  },
  {
   "cell_type": "code",
   "execution_count": null,
   "metadata": {},
   "outputs": [],
   "source": []
  },
  {
   "cell_type": "code",
   "execution_count": 967,
   "metadata": {},
   "outputs": [],
   "source": [
    "#Creating Capacity column\n",
    "regex=\"(?:[\\d.\\s]+|[0-9\\s]+)\\s+Ton\"\n",
    "ac[\"Capacity\"]=ac[\"Model\"].apply(lambda x:\"\".join(re.compile(regex).findall(x)))"
   ]
  },
  {
   "cell_type": "code",
   "execution_count": 968,
   "metadata": {},
   "outputs": [],
   "source": [
    "ca=[]\n",
    "for i in ac[\"Capacity\"]:\n",
    "    if(i==\"\"):\n",
    "        ca.append(np.nan)\n",
    "    else:\n",
    "        ca.append(i)"
   ]
  },
  {
   "cell_type": "code",
   "execution_count": 969,
   "metadata": {},
   "outputs": [],
   "source": [
    "ac[\"Capacity\"]=ca"
   ]
  },
  {
   "cell_type": "code",
   "execution_count": null,
   "metadata": {},
   "outputs": [],
   "source": []
  },
  {
   "cell_type": "code",
   "execution_count": 970,
   "metadata": {},
   "outputs": [],
   "source": [
    "#Creating Power Consumption column\n",
    "regex=\"(?:[\\d.]+|[\\d]+)\\s+(?:kWh|W)\"\n",
    "ac[\"Power Consumption\"]=ac[\"Specs\"].apply(lambda x:\"\".join(re.compile(regex).findall(x)))"
   ]
  },
  {
   "cell_type": "code",
   "execution_count": 971,
   "metadata": {},
   "outputs": [],
   "source": [
    "pc=[]\n",
    "for i in ac[\"Power Consumption\"]:\n",
    "    if(i==\"\"):\n",
    "        pc.append(np.nan)\n",
    "    else:\n",
    "        pc.append(i)"
   ]
  },
  {
   "cell_type": "code",
   "execution_count": 972,
   "metadata": {},
   "outputs": [],
   "source": [
    "ac[\"Power Consumption\"]=pc"
   ]
  },
  {
   "cell_type": "code",
   "execution_count": 973,
   "metadata": {},
   "outputs": [
    {
     "data": {
      "text/html": [
       "<div>\n",
       "<style scoped>\n",
       "    .dataframe tbody tr th:only-of-type {\n",
       "        vertical-align: middle;\n",
       "    }\n",
       "\n",
       "    .dataframe tbody tr th {\n",
       "        vertical-align: top;\n",
       "    }\n",
       "\n",
       "    .dataframe thead th {\n",
       "        text-align: right;\n",
       "    }\n",
       "</style>\n",
       "<table border=\"1\" class=\"dataframe\">\n",
       "  <thead>\n",
       "    <tr style=\"text-align: right;\">\n",
       "      <th></th>\n",
       "      <th>Model</th>\n",
       "      <th>Price</th>\n",
       "      <th>Rating</th>\n",
       "      <th>Specs</th>\n",
       "      <th>Brand</th>\n",
       "      <th>Capacity</th>\n",
       "      <th>Power Consumption</th>\n",
       "    </tr>\n",
       "  </thead>\n",
       "  <tbody>\n",
       "    <tr>\n",
       "      <th>0</th>\n",
       "      <td>CARRIER 1.2 Ton 5 Star Split Inverter AC  - White</td>\n",
       "      <td>33990.0</td>\n",
       "      <td>4.2</td>\n",
       "      <td>Condenser Coil: CopperPower Consumption: 1050 ...</td>\n",
       "      <td>CARRIER</td>\n",
       "      <td>1.2 Ton</td>\n",
       "      <td>1050 W</td>\n",
       "    </tr>\n",
       "    <tr>\n",
       "      <th>1</th>\n",
       "      <td>CARRIER 4 in 1 Convertible Cooling 1.5 Ton 5 S...</td>\n",
       "      <td>39990.0</td>\n",
       "      <td>4.2</td>\n",
       "      <td>Condenser Coil: CopperPower Consumption: 1500 ...</td>\n",
       "      <td>CARRIER</td>\n",
       "      <td>1.5 Ton</td>\n",
       "      <td>1500 W</td>\n",
       "    </tr>\n",
       "    <tr>\n",
       "      <th>2</th>\n",
       "      <td>SAMSUNG 1.5 Ton 3 Star Split Inverter AC  - Wh...</td>\n",
       "      <td>29990.0</td>\n",
       "      <td>4.2</td>\n",
       "      <td>Condenser Coil: CopperPower Consumption: 1748 ...</td>\n",
       "      <td>SAMSUNG</td>\n",
       "      <td>1.5 Ton</td>\n",
       "      <td>1748 W</td>\n",
       "    </tr>\n",
       "    <tr>\n",
       "      <th>3</th>\n",
       "      <td>Midea 1 Ton 3 Star Split AC  - White</td>\n",
       "      <td>21990.0</td>\n",
       "      <td>4.3</td>\n",
       "      <td>Condenser Coil: CopperPower Consumption: 980 W...</td>\n",
       "      <td>Midea</td>\n",
       "      <td>1 Ton</td>\n",
       "      <td>980 W</td>\n",
       "    </tr>\n",
       "    <tr>\n",
       "      <th>4</th>\n",
       "      <td>MarQ By Flipkart 1 Ton 3 Star Split Inverter A...</td>\n",
       "      <td>20990.0</td>\n",
       "      <td>4.3</td>\n",
       "      <td>Condenser Coil: CopperPower Consumption: 1110 ...</td>\n",
       "      <td>MarQ</td>\n",
       "      <td>1 Ton</td>\n",
       "      <td>1110 W</td>\n",
       "    </tr>\n",
       "  </tbody>\n",
       "</table>\n",
       "</div>"
      ],
      "text/plain": [
       "                                               Model    Price Rating  \\\n",
       "0  CARRIER 1.2 Ton 5 Star Split Inverter AC  - White  33990.0    4.2   \n",
       "1  CARRIER 4 in 1 Convertible Cooling 1.5 Ton 5 S...  39990.0    4.2   \n",
       "2  SAMSUNG 1.5 Ton 3 Star Split Inverter AC  - Wh...  29990.0    4.2   \n",
       "3               Midea 1 Ton 3 Star Split AC  - White  21990.0    4.3   \n",
       "4  MarQ By Flipkart 1 Ton 3 Star Split Inverter A...  20990.0    4.3   \n",
       "\n",
       "                                               Specs    Brand  Capacity  \\\n",
       "0  Condenser Coil: CopperPower Consumption: 1050 ...  CARRIER   1.2 Ton   \n",
       "1  Condenser Coil: CopperPower Consumption: 1500 ...  CARRIER   1.5 Ton   \n",
       "2  Condenser Coil: CopperPower Consumption: 1748 ...  SAMSUNG   1.5 Ton   \n",
       "3  Condenser Coil: CopperPower Consumption: 980 W...    Midea     1 Ton   \n",
       "4  Condenser Coil: CopperPower Consumption: 1110 ...     MarQ     1 Ton   \n",
       "\n",
       "  Power Consumption  \n",
       "0            1050 W  \n",
       "1            1500 W  \n",
       "2            1748 W  \n",
       "3             980 W  \n",
       "4            1110 W  "
      ]
     },
     "execution_count": 973,
     "metadata": {},
     "output_type": "execute_result"
    }
   ],
   "source": [
    "ac.head()"
   ]
  },
  {
   "cell_type": "code",
   "execution_count": null,
   "metadata": {},
   "outputs": [],
   "source": []
  },
  {
   "cell_type": "code",
   "execution_count": 974,
   "metadata": {},
   "outputs": [
    {
     "data": {
      "text/plain": [
       "['Copper']"
      ]
     },
     "execution_count": 974,
     "metadata": {},
     "output_type": "execute_result"
    }
   ],
   "source": [
    "regex=\"Copper\"\n",
    "re.findall(regex,ac[\"Specs\"][190])"
   ]
  },
  {
   "cell_type": "code",
   "execution_count": 975,
   "metadata": {},
   "outputs": [],
   "source": [
    "# Creating Condenser Coil\n",
    "regex=\"Copper\"\n",
    "ac[\"Condenser Coil\"]=ac[\"Specs\"].apply(lambda x:\"\".join(re.compile(regex).findall(x)))"
   ]
  },
  {
   "cell_type": "code",
   "execution_count": 976,
   "metadata": {},
   "outputs": [],
   "source": [
    "cc=[]\n",
    "for i in ac[\"Condenser Coil\"]:\n",
    "    if(i==\"\"):\n",
    "        cc.append(np.nan)\n",
    "    else:\n",
    "        cc.append(i)"
   ]
  },
  {
   "cell_type": "code",
   "execution_count": 977,
   "metadata": {},
   "outputs": [],
   "source": [
    "ac[\"Condenser Coil\"]=cc"
   ]
  },
  {
   "cell_type": "code",
   "execution_count": 978,
   "metadata": {},
   "outputs": [
    {
     "data": {
      "text/html": [
       "<div>\n",
       "<style scoped>\n",
       "    .dataframe tbody tr th:only-of-type {\n",
       "        vertical-align: middle;\n",
       "    }\n",
       "\n",
       "    .dataframe tbody tr th {\n",
       "        vertical-align: top;\n",
       "    }\n",
       "\n",
       "    .dataframe thead th {\n",
       "        text-align: right;\n",
       "    }\n",
       "</style>\n",
       "<table border=\"1\" class=\"dataframe\">\n",
       "  <thead>\n",
       "    <tr style=\"text-align: right;\">\n",
       "      <th></th>\n",
       "      <th>Model</th>\n",
       "      <th>Price</th>\n",
       "      <th>Rating</th>\n",
       "      <th>Specs</th>\n",
       "      <th>Brand</th>\n",
       "      <th>Capacity</th>\n",
       "      <th>Power Consumption</th>\n",
       "      <th>Condenser Coil</th>\n",
       "    </tr>\n",
       "  </thead>\n",
       "  <tbody>\n",
       "    <tr>\n",
       "      <th>0</th>\n",
       "      <td>CARRIER 1.2 Ton 5 Star Split Inverter AC  - White</td>\n",
       "      <td>33990.0</td>\n",
       "      <td>4.2</td>\n",
       "      <td>Condenser Coil: CopperPower Consumption: 1050 ...</td>\n",
       "      <td>CARRIER</td>\n",
       "      <td>1.2 Ton</td>\n",
       "      <td>1050 W</td>\n",
       "      <td>Copper</td>\n",
       "    </tr>\n",
       "    <tr>\n",
       "      <th>1</th>\n",
       "      <td>CARRIER 4 in 1 Convertible Cooling 1.5 Ton 5 S...</td>\n",
       "      <td>39990.0</td>\n",
       "      <td>4.2</td>\n",
       "      <td>Condenser Coil: CopperPower Consumption: 1500 ...</td>\n",
       "      <td>CARRIER</td>\n",
       "      <td>1.5 Ton</td>\n",
       "      <td>1500 W</td>\n",
       "      <td>Copper</td>\n",
       "    </tr>\n",
       "    <tr>\n",
       "      <th>2</th>\n",
       "      <td>SAMSUNG 1.5 Ton 3 Star Split Inverter AC  - Wh...</td>\n",
       "      <td>29990.0</td>\n",
       "      <td>4.2</td>\n",
       "      <td>Condenser Coil: CopperPower Consumption: 1748 ...</td>\n",
       "      <td>SAMSUNG</td>\n",
       "      <td>1.5 Ton</td>\n",
       "      <td>1748 W</td>\n",
       "      <td>Copper</td>\n",
       "    </tr>\n",
       "    <tr>\n",
       "      <th>3</th>\n",
       "      <td>Midea 1 Ton 3 Star Split AC  - White</td>\n",
       "      <td>21990.0</td>\n",
       "      <td>4.3</td>\n",
       "      <td>Condenser Coil: CopperPower Consumption: 980 W...</td>\n",
       "      <td>Midea</td>\n",
       "      <td>1 Ton</td>\n",
       "      <td>980 W</td>\n",
       "      <td>Copper</td>\n",
       "    </tr>\n",
       "    <tr>\n",
       "      <th>4</th>\n",
       "      <td>MarQ By Flipkart 1 Ton 3 Star Split Inverter A...</td>\n",
       "      <td>20990.0</td>\n",
       "      <td>4.3</td>\n",
       "      <td>Condenser Coil: CopperPower Consumption: 1110 ...</td>\n",
       "      <td>MarQ</td>\n",
       "      <td>1 Ton</td>\n",
       "      <td>1110 W</td>\n",
       "      <td>Copper</td>\n",
       "    </tr>\n",
       "  </tbody>\n",
       "</table>\n",
       "</div>"
      ],
      "text/plain": [
       "                                               Model    Price Rating  \\\n",
       "0  CARRIER 1.2 Ton 5 Star Split Inverter AC  - White  33990.0    4.2   \n",
       "1  CARRIER 4 in 1 Convertible Cooling 1.5 Ton 5 S...  39990.0    4.2   \n",
       "2  SAMSUNG 1.5 Ton 3 Star Split Inverter AC  - Wh...  29990.0    4.2   \n",
       "3               Midea 1 Ton 3 Star Split AC  - White  21990.0    4.3   \n",
       "4  MarQ By Flipkart 1 Ton 3 Star Split Inverter A...  20990.0    4.3   \n",
       "\n",
       "                                               Specs    Brand  Capacity  \\\n",
       "0  Condenser Coil: CopperPower Consumption: 1050 ...  CARRIER   1.2 Ton   \n",
       "1  Condenser Coil: CopperPower Consumption: 1500 ...  CARRIER   1.5 Ton   \n",
       "2  Condenser Coil: CopperPower Consumption: 1748 ...  SAMSUNG   1.5 Ton   \n",
       "3  Condenser Coil: CopperPower Consumption: 980 W...    Midea     1 Ton   \n",
       "4  Condenser Coil: CopperPower Consumption: 1110 ...     MarQ     1 Ton   \n",
       "\n",
       "  Power Consumption Condenser Coil  \n",
       "0            1050 W         Copper  \n",
       "1            1500 W         Copper  \n",
       "2            1748 W         Copper  \n",
       "3             980 W         Copper  \n",
       "4            1110 W         Copper  "
      ]
     },
     "execution_count": 978,
     "metadata": {},
     "output_type": "execute_result"
    }
   ],
   "source": [
    "ac.head()"
   ]
  },
  {
   "cell_type": "code",
   "execution_count": 995,
   "metadata": {},
   "outputs": [
    {
     "data": {
      "text/plain": [
       "'Condenser Coil: CopperPower Consumption: 1110 WNoise level: 32.5 dbRefrigerant: R-32Wi-Fi Enabled: No1 Year on Product and 5 Years on Compressor'"
      ]
     },
     "execution_count": 995,
     "metadata": {},
     "output_type": "execute_result"
    }
   ],
   "source": [
    "ac[\"Specs\"][4]"
   ]
  },
  {
   "cell_type": "code",
   "execution_count": 996,
   "metadata": {},
   "outputs": [
    {
     "data": {
      "text/plain": [
       "[' 32.5 db']"
      ]
     },
     "execution_count": 996,
     "metadata": {},
     "output_type": "execute_result"
    }
   ],
   "source": [
    "regex=\"(?:[\\d\\s]|[\\d.\\s])+(?:dB|db)\"\n",
    "re.findall(regex,ac[\"Specs\"][4])"
   ]
  },
  {
   "cell_type": "code",
   "execution_count": 1002,
   "metadata": {},
   "outputs": [],
   "source": [
    "#Creating Noise level column\n",
    "regex=\"(?:[\\d\\s]|[\\d.\\s])+(?:dB|db)\"\n",
    "ac[\"Noise Level\"]=ac[\"Specs\"].apply(lambda x:\" \".join(re.compile(regex).findall(x)))"
   ]
  },
  {
   "cell_type": "code",
   "execution_count": 1003,
   "metadata": {},
   "outputs": [],
   "source": [
    "N=[]\n",
    "for i in ac[\"Noise Level\"]:\n",
    "    if(i==\"\"):\n",
    "        N.append(np.nan)\n",
    "    else:\n",
    "        N.append(i)"
   ]
  },
  {
   "cell_type": "code",
   "execution_count": 1004,
   "metadata": {},
   "outputs": [],
   "source": [
    "ac[\"Noise Level\"]=N"
   ]
  },
  {
   "cell_type": "code",
   "execution_count": 1005,
   "metadata": {},
   "outputs": [
    {
     "data": {
      "text/html": [
       "<div>\n",
       "<style scoped>\n",
       "    .dataframe tbody tr th:only-of-type {\n",
       "        vertical-align: middle;\n",
       "    }\n",
       "\n",
       "    .dataframe tbody tr th {\n",
       "        vertical-align: top;\n",
       "    }\n",
       "\n",
       "    .dataframe thead th {\n",
       "        text-align: right;\n",
       "    }\n",
       "</style>\n",
       "<table border=\"1\" class=\"dataframe\">\n",
       "  <thead>\n",
       "    <tr style=\"text-align: right;\">\n",
       "      <th></th>\n",
       "      <th>Model</th>\n",
       "      <th>Price</th>\n",
       "      <th>Rating</th>\n",
       "      <th>Specs</th>\n",
       "      <th>Brand</th>\n",
       "      <th>Capacity</th>\n",
       "      <th>Power Consumption</th>\n",
       "      <th>Condenser Coil</th>\n",
       "      <th>Noise Level</th>\n",
       "    </tr>\n",
       "  </thead>\n",
       "  <tbody>\n",
       "    <tr>\n",
       "      <th>0</th>\n",
       "      <td>CARRIER 1.2 Ton 5 Star Split Inverter AC  - White</td>\n",
       "      <td>33990.0</td>\n",
       "      <td>4.2</td>\n",
       "      <td>Condenser Coil: CopperPower Consumption: 1050 ...</td>\n",
       "      <td>CARRIER</td>\n",
       "      <td>1.2 Ton</td>\n",
       "      <td>1050 W</td>\n",
       "      <td>Copper</td>\n",
       "      <td>32 dB</td>\n",
       "    </tr>\n",
       "    <tr>\n",
       "      <th>1</th>\n",
       "      <td>CARRIER 4 in 1 Convertible Cooling 1.5 Ton 5 S...</td>\n",
       "      <td>39990.0</td>\n",
       "      <td>4.2</td>\n",
       "      <td>Condenser Coil: CopperPower Consumption: 1500 ...</td>\n",
       "      <td>CARRIER</td>\n",
       "      <td>1.5 Ton</td>\n",
       "      <td>1500 W</td>\n",
       "      <td>Copper</td>\n",
       "      <td>38 dB</td>\n",
       "    </tr>\n",
       "    <tr>\n",
       "      <th>2</th>\n",
       "      <td>SAMSUNG 1.5 Ton 3 Star Split Inverter AC  - Wh...</td>\n",
       "      <td>29990.0</td>\n",
       "      <td>4.2</td>\n",
       "      <td>Condenser Coil: CopperPower Consumption: 1748 ...</td>\n",
       "      <td>SAMSUNG</td>\n",
       "      <td>1.5 Ton</td>\n",
       "      <td>1748 W</td>\n",
       "      <td>Copper</td>\n",
       "      <td>52 dB</td>\n",
       "    </tr>\n",
       "    <tr>\n",
       "      <th>3</th>\n",
       "      <td>Midea 1 Ton 3 Star Split AC  - White</td>\n",
       "      <td>21990.0</td>\n",
       "      <td>4.3</td>\n",
       "      <td>Condenser Coil: CopperPower Consumption: 980 W...</td>\n",
       "      <td>Midea</td>\n",
       "      <td>1 Ton</td>\n",
       "      <td>980 W</td>\n",
       "      <td>Copper</td>\n",
       "      <td>39 dB</td>\n",
       "    </tr>\n",
       "    <tr>\n",
       "      <th>4</th>\n",
       "      <td>MarQ By Flipkart 1 Ton 3 Star Split Inverter A...</td>\n",
       "      <td>20990.0</td>\n",
       "      <td>4.3</td>\n",
       "      <td>Condenser Coil: CopperPower Consumption: 1110 ...</td>\n",
       "      <td>MarQ</td>\n",
       "      <td>1 Ton</td>\n",
       "      <td>1110 W</td>\n",
       "      <td>Copper</td>\n",
       "      <td>32.5 db</td>\n",
       "    </tr>\n",
       "  </tbody>\n",
       "</table>\n",
       "</div>"
      ],
      "text/plain": [
       "                                               Model    Price Rating  \\\n",
       "0  CARRIER 1.2 Ton 5 Star Split Inverter AC  - White  33990.0    4.2   \n",
       "1  CARRIER 4 in 1 Convertible Cooling 1.5 Ton 5 S...  39990.0    4.2   \n",
       "2  SAMSUNG 1.5 Ton 3 Star Split Inverter AC  - Wh...  29990.0    4.2   \n",
       "3               Midea 1 Ton 3 Star Split AC  - White  21990.0    4.3   \n",
       "4  MarQ By Flipkart 1 Ton 3 Star Split Inverter A...  20990.0    4.3   \n",
       "\n",
       "                                               Specs    Brand  Capacity  \\\n",
       "0  Condenser Coil: CopperPower Consumption: 1050 ...  CARRIER   1.2 Ton   \n",
       "1  Condenser Coil: CopperPower Consumption: 1500 ...  CARRIER   1.5 Ton   \n",
       "2  Condenser Coil: CopperPower Consumption: 1748 ...  SAMSUNG   1.5 Ton   \n",
       "3  Condenser Coil: CopperPower Consumption: 980 W...    Midea     1 Ton   \n",
       "4  Condenser Coil: CopperPower Consumption: 1110 ...     MarQ     1 Ton   \n",
       "\n",
       "  Power Consumption Condenser Coil Noise Level  \n",
       "0            1050 W         Copper       32 dB  \n",
       "1            1500 W         Copper       38 dB  \n",
       "2            1748 W         Copper       52 dB  \n",
       "3             980 W         Copper       39 dB  \n",
       "4            1110 W         Copper     32.5 db  "
      ]
     },
     "execution_count": 1005,
     "metadata": {},
     "output_type": "execute_result"
    }
   ],
   "source": [
    "ac.head()"
   ]
  },
  {
   "cell_type": "code",
   "execution_count": null,
   "metadata": {},
   "outputs": [],
   "source": []
  },
  {
   "cell_type": "code",
   "execution_count": 864,
   "metadata": {},
   "outputs": [
    {
     "data": {
      "text/plain": [
       "'Condenser Coil: CopperPower Consumption: 1050 WNoise level: 32 dBRefrigerant: R32Wi-Fi Enabled: No1 Year Warranty on Product and 10 Years on Compressor from Carrier'"
      ]
     },
     "execution_count": 864,
     "metadata": {},
     "output_type": "execute_result"
    }
   ],
   "source": [
    "ac[\"Specs\"][1]"
   ]
  },
  {
   "cell_type": "code",
   "execution_count": 1006,
   "metadata": {},
   "outputs": [
    {
     "data": {
      "text/plain": [
       "['No']"
      ]
     },
     "execution_count": 1006,
     "metadata": {},
     "output_type": "execute_result"
    }
   ],
   "source": [
    "regex=\"(?:\\w:\\s)+(Yes|yes|No|no)\"\n",
    "re.findall(regex,ac[\"Specs\"][100])"
   ]
  },
  {
   "cell_type": "code",
   "execution_count": 1007,
   "metadata": {},
   "outputs": [],
   "source": [
    "#Creating Wi-fi column\n",
    "regex=\"(?:\\w:\\s)+(Yes|yes|No|no)\"\n",
    "ac[\"Wi-Fi\"]=ac[\"Specs\"].apply(lambda x:\"\".join(re.compile(regex).findall(x)))"
   ]
  },
  {
   "cell_type": "code",
   "execution_count": 1008,
   "metadata": {},
   "outputs": [],
   "source": [
    "wi=[]\n",
    "for i in ac[\"Wi-Fi\"]:\n",
    "    if(i==\"\"):\n",
    "        wi.append(np.nan)\n",
    "    else:\n",
    "        wi.append(i)"
   ]
  },
  {
   "cell_type": "code",
   "execution_count": 1009,
   "metadata": {},
   "outputs": [],
   "source": [
    "ac[\"Wi-Fi\"]=wi"
   ]
  },
  {
   "cell_type": "code",
   "execution_count": null,
   "metadata": {},
   "outputs": [],
   "source": []
  },
  {
   "cell_type": "code",
   "execution_count": 1010,
   "metadata": {},
   "outputs": [
    {
     "data": {
      "text/html": [
       "<div>\n",
       "<style scoped>\n",
       "    .dataframe tbody tr th:only-of-type {\n",
       "        vertical-align: middle;\n",
       "    }\n",
       "\n",
       "    .dataframe tbody tr th {\n",
       "        vertical-align: top;\n",
       "    }\n",
       "\n",
       "    .dataframe thead th {\n",
       "        text-align: right;\n",
       "    }\n",
       "</style>\n",
       "<table border=\"1\" class=\"dataframe\">\n",
       "  <thead>\n",
       "    <tr style=\"text-align: right;\">\n",
       "      <th></th>\n",
       "      <th>Model</th>\n",
       "      <th>Price</th>\n",
       "      <th>Rating</th>\n",
       "      <th>Specs</th>\n",
       "      <th>Brand</th>\n",
       "      <th>Capacity</th>\n",
       "      <th>Power Consumption</th>\n",
       "      <th>Condenser Coil</th>\n",
       "      <th>Noise Level</th>\n",
       "      <th>Wi-Fi</th>\n",
       "    </tr>\n",
       "  </thead>\n",
       "  <tbody>\n",
       "    <tr>\n",
       "      <th>0</th>\n",
       "      <td>CARRIER 1.2 Ton 5 Star Split Inverter AC  - White</td>\n",
       "      <td>33990.0</td>\n",
       "      <td>4.2</td>\n",
       "      <td>Condenser Coil: CopperPower Consumption: 1050 ...</td>\n",
       "      <td>CARRIER</td>\n",
       "      <td>1.2 Ton</td>\n",
       "      <td>1050 W</td>\n",
       "      <td>Copper</td>\n",
       "      <td>32 dB</td>\n",
       "      <td>No</td>\n",
       "    </tr>\n",
       "    <tr>\n",
       "      <th>1</th>\n",
       "      <td>CARRIER 4 in 1 Convertible Cooling 1.5 Ton 5 S...</td>\n",
       "      <td>39990.0</td>\n",
       "      <td>4.2</td>\n",
       "      <td>Condenser Coil: CopperPower Consumption: 1500 ...</td>\n",
       "      <td>CARRIER</td>\n",
       "      <td>1.5 Ton</td>\n",
       "      <td>1500 W</td>\n",
       "      <td>Copper</td>\n",
       "      <td>38 dB</td>\n",
       "      <td>No</td>\n",
       "    </tr>\n",
       "    <tr>\n",
       "      <th>2</th>\n",
       "      <td>SAMSUNG 1.5 Ton 3 Star Split Inverter AC  - Wh...</td>\n",
       "      <td>29990.0</td>\n",
       "      <td>4.2</td>\n",
       "      <td>Condenser Coil: CopperPower Consumption: 1748 ...</td>\n",
       "      <td>SAMSUNG</td>\n",
       "      <td>1.5 Ton</td>\n",
       "      <td>1748 W</td>\n",
       "      <td>Copper</td>\n",
       "      <td>52 dB</td>\n",
       "      <td>No</td>\n",
       "    </tr>\n",
       "    <tr>\n",
       "      <th>3</th>\n",
       "      <td>Midea 1 Ton 3 Star Split AC  - White</td>\n",
       "      <td>21990.0</td>\n",
       "      <td>4.3</td>\n",
       "      <td>Condenser Coil: CopperPower Consumption: 980 W...</td>\n",
       "      <td>Midea</td>\n",
       "      <td>1 Ton</td>\n",
       "      <td>980 W</td>\n",
       "      <td>Copper</td>\n",
       "      <td>39 dB</td>\n",
       "      <td>No</td>\n",
       "    </tr>\n",
       "    <tr>\n",
       "      <th>4</th>\n",
       "      <td>MarQ By Flipkart 1 Ton 3 Star Split Inverter A...</td>\n",
       "      <td>20990.0</td>\n",
       "      <td>4.3</td>\n",
       "      <td>Condenser Coil: CopperPower Consumption: 1110 ...</td>\n",
       "      <td>MarQ</td>\n",
       "      <td>1 Ton</td>\n",
       "      <td>1110 W</td>\n",
       "      <td>Copper</td>\n",
       "      <td>32.5 db</td>\n",
       "      <td>No</td>\n",
       "    </tr>\n",
       "  </tbody>\n",
       "</table>\n",
       "</div>"
      ],
      "text/plain": [
       "                                               Model    Price Rating  \\\n",
       "0  CARRIER 1.2 Ton 5 Star Split Inverter AC  - White  33990.0    4.2   \n",
       "1  CARRIER 4 in 1 Convertible Cooling 1.5 Ton 5 S...  39990.0    4.2   \n",
       "2  SAMSUNG 1.5 Ton 3 Star Split Inverter AC  - Wh...  29990.0    4.2   \n",
       "3               Midea 1 Ton 3 Star Split AC  - White  21990.0    4.3   \n",
       "4  MarQ By Flipkart 1 Ton 3 Star Split Inverter A...  20990.0    4.3   \n",
       "\n",
       "                                               Specs    Brand  Capacity  \\\n",
       "0  Condenser Coil: CopperPower Consumption: 1050 ...  CARRIER   1.2 Ton   \n",
       "1  Condenser Coil: CopperPower Consumption: 1500 ...  CARRIER   1.5 Ton   \n",
       "2  Condenser Coil: CopperPower Consumption: 1748 ...  SAMSUNG   1.5 Ton   \n",
       "3  Condenser Coil: CopperPower Consumption: 980 W...    Midea     1 Ton   \n",
       "4  Condenser Coil: CopperPower Consumption: 1110 ...     MarQ     1 Ton   \n",
       "\n",
       "  Power Consumption Condenser Coil Noise Level Wi-Fi  \n",
       "0            1050 W         Copper       32 dB    No  \n",
       "1            1500 W         Copper       38 dB    No  \n",
       "2            1748 W         Copper       52 dB    No  \n",
       "3             980 W         Copper       39 dB    No  \n",
       "4            1110 W         Copper     32.5 db    No  "
      ]
     },
     "execution_count": 1010,
     "metadata": {},
     "output_type": "execute_result"
    }
   ],
   "source": [
    "ac.head()"
   ]
  },
  {
   "cell_type": "code",
   "execution_count": null,
   "metadata": {},
   "outputs": [],
   "source": []
  },
  {
   "cell_type": "code",
   "execution_count": 870,
   "metadata": {},
   "outputs": [
    {
     "data": {
      "text/plain": [
       "'CARRIER 4 in 1 Convertible Cooling 1.5 Ton 5 Star Split Inverter AC  - White'"
      ]
     },
     "execution_count": 870,
     "metadata": {},
     "output_type": "execute_result"
    }
   ],
   "source": [
    "ac[\"Model\"][0]"
   ]
  },
  {
   "cell_type": "code",
   "execution_count": 871,
   "metadata": {},
   "outputs": [
    {
     "data": {
      "text/plain": [
       "'CARRIER 1.2 Ton 5 Star Split Inverter AC  - White'"
      ]
     },
     "execution_count": 871,
     "metadata": {},
     "output_type": "execute_result"
    }
   ],
   "source": [
    "ac[\"Model\"][1]"
   ]
  },
  {
   "cell_type": "code",
   "execution_count": 1011,
   "metadata": {},
   "outputs": [],
   "source": [
    "#Creating Energy Saving column\n",
    "regex=\"[\\d\\s]+Star\"\n",
    "ac[\"Energy Saving\"]=ac[\"Model\"].apply(lambda x:\"\".join(re.compile(regex).findall(x)))"
   ]
  },
  {
   "cell_type": "code",
   "execution_count": 1012,
   "metadata": {},
   "outputs": [],
   "source": [
    "es=[]\n",
    "for i in ac[\"Energy Saving\"]:\n",
    "    if(i==\"\"):\n",
    "        es.append(np.nan)\n",
    "    else:\n",
    "        es.append(i)"
   ]
  },
  {
   "cell_type": "code",
   "execution_count": 1013,
   "metadata": {},
   "outputs": [],
   "source": [
    "ac[\"Energy Saving\"]=es"
   ]
  },
  {
   "cell_type": "code",
   "execution_count": 1014,
   "metadata": {},
   "outputs": [],
   "source": [
    "Es=[]\n",
    "for i in ac[\"Energy Saving\"]:\n",
    "    if(i==\" Star 2 Star\"):\n",
    "        Es.append(\" 2 Star\")\n",
    "        \n",
    "    elif(i==\" Star 3 Star\"):\n",
    "        Es.append(\" 3 Star\")\n",
    "    \n",
    "    elif(i==\" Star 4 Star\"):\n",
    "        Es.append(\" 4 Star\")\n",
    "     \n",
    "    elif(i==\" Star 5 Star\"):\n",
    "        Es.append(\" 5 Star\")\n",
    "    else:\n",
    "        Es.append(i)"
   ]
  },
  {
   "cell_type": "code",
   "execution_count": 1015,
   "metadata": {},
   "outputs": [],
   "source": [
    "ac[\"Energy Saving\"]=Es"
   ]
  },
  {
   "cell_type": "code",
   "execution_count": 1016,
   "metadata": {},
   "outputs": [],
   "source": [
    "e=[]\n",
    "for i in ac[\"Energy Saving\"]:\n",
    "    if(i==\" 5 Star\"):\n",
    "        e.append(\"5 Star\")\n",
    "    else:\n",
    "        e.append(i)"
   ]
  },
  {
   "cell_type": "code",
   "execution_count": 1017,
   "metadata": {},
   "outputs": [],
   "source": [
    "ac[\"Energy Saving\"]=e"
   ]
  },
  {
   "cell_type": "code",
   "execution_count": 1019,
   "metadata": {},
   "outputs": [
    {
     "data": {
      "text/plain": [
       "array(['5 Star', ' 3 Star', ' 4 Star', nan, ' 2 Star'], dtype=object)"
      ]
     },
     "execution_count": 1019,
     "metadata": {},
     "output_type": "execute_result"
    }
   ],
   "source": [
    "ac[\"Energy Saving\"].unique()"
   ]
  },
  {
   "cell_type": "code",
   "execution_count": null,
   "metadata": {},
   "outputs": [],
   "source": []
  },
  {
   "cell_type": "code",
   "execution_count": 1020,
   "metadata": {},
   "outputs": [
    {
     "data": {
      "text/plain": [
       "'Condenser Coil: CopperPower Consumption: 1050 WNoise level: 32 dBRefrigerant: R32Wi-Fi Enabled: No1 Year Warranty on Product and 10 Years on Compressor from Carrier'"
      ]
     },
     "execution_count": 1020,
     "metadata": {},
     "output_type": "execute_result"
    }
   ],
   "source": [
    "ac[\"Specs\"][0]"
   ]
  },
  {
   "cell_type": "code",
   "execution_count": 1021,
   "metadata": {},
   "outputs": [],
   "source": [
    "#Creating Compressor Warranty\n",
    "regex=\"[\\d\\s]+(?:Years|years)\\s[\\w\\s]+(?:Compressor|compressor)\"\n",
    "ac[\"Compressor_Warranty\"]=ac[\"Specs\"].apply(lambda x:\"\".join(re.compile(regex).findall(x)))"
   ]
  },
  {
   "cell_type": "code",
   "execution_count": 1022,
   "metadata": {},
   "outputs": [],
   "source": [
    "cw=[]\n",
    "for i in ac[\"Compressor_Warranty\"]:\n",
    "    if(i==\"\"):\n",
    "        cw.append(np.nan)\n",
    "    else:\n",
    "        cw.append(i)"
   ]
  },
  {
   "cell_type": "code",
   "execution_count": 1023,
   "metadata": {},
   "outputs": [],
   "source": [
    " ac[\"Compressor_Warranty\"]=cw"
   ]
  },
  {
   "cell_type": "code",
   "execution_count": null,
   "metadata": {},
   "outputs": [],
   "source": []
  },
  {
   "cell_type": "code",
   "execution_count": 1024,
   "metadata": {
    "scrolled": true
   },
   "outputs": [
    {
     "data": {
      "text/html": [
       "<div>\n",
       "<style scoped>\n",
       "    .dataframe tbody tr th:only-of-type {\n",
       "        vertical-align: middle;\n",
       "    }\n",
       "\n",
       "    .dataframe tbody tr th {\n",
       "        vertical-align: top;\n",
       "    }\n",
       "\n",
       "    .dataframe thead th {\n",
       "        text-align: right;\n",
       "    }\n",
       "</style>\n",
       "<table border=\"1\" class=\"dataframe\">\n",
       "  <thead>\n",
       "    <tr style=\"text-align: right;\">\n",
       "      <th></th>\n",
       "      <th>Model</th>\n",
       "      <th>Price</th>\n",
       "      <th>Rating</th>\n",
       "      <th>Specs</th>\n",
       "      <th>Brand</th>\n",
       "      <th>Capacity</th>\n",
       "      <th>Power Consumption</th>\n",
       "      <th>Condenser Coil</th>\n",
       "      <th>Noise Level</th>\n",
       "      <th>Wi-Fi</th>\n",
       "      <th>Energy Saving</th>\n",
       "      <th>Compressor_Warranty</th>\n",
       "    </tr>\n",
       "  </thead>\n",
       "  <tbody>\n",
       "    <tr>\n",
       "      <th>0</th>\n",
       "      <td>CARRIER 1.2 Ton 5 Star Split Inverter AC  - White</td>\n",
       "      <td>33990.0</td>\n",
       "      <td>4.2</td>\n",
       "      <td>Condenser Coil: CopperPower Consumption: 1050 ...</td>\n",
       "      <td>CARRIER</td>\n",
       "      <td>1.2 Ton</td>\n",
       "      <td>1050 W</td>\n",
       "      <td>Copper</td>\n",
       "      <td>32 dB</td>\n",
       "      <td>No</td>\n",
       "      <td>5 Star</td>\n",
       "      <td>10 Years on Compressor</td>\n",
       "    </tr>\n",
       "    <tr>\n",
       "      <th>1</th>\n",
       "      <td>CARRIER 4 in 1 Convertible Cooling 1.5 Ton 5 S...</td>\n",
       "      <td>39990.0</td>\n",
       "      <td>4.2</td>\n",
       "      <td>Condenser Coil: CopperPower Consumption: 1500 ...</td>\n",
       "      <td>CARRIER</td>\n",
       "      <td>1.5 Ton</td>\n",
       "      <td>1500 W</td>\n",
       "      <td>Copper</td>\n",
       "      <td>38 dB</td>\n",
       "      <td>No</td>\n",
       "      <td>5 Star</td>\n",
       "      <td>2 Years on PCB and 10 Years on Compressor</td>\n",
       "    </tr>\n",
       "    <tr>\n",
       "      <th>2</th>\n",
       "      <td>SAMSUNG 1.5 Ton 3 Star Split Inverter AC  - Wh...</td>\n",
       "      <td>29990.0</td>\n",
       "      <td>4.2</td>\n",
       "      <td>Condenser Coil: CopperPower Consumption: 1748 ...</td>\n",
       "      <td>SAMSUNG</td>\n",
       "      <td>1.5 Ton</td>\n",
       "      <td>1748 W</td>\n",
       "      <td>Copper</td>\n",
       "      <td>52 dB</td>\n",
       "      <td>No</td>\n",
       "      <td>3 Star</td>\n",
       "      <td>10 years on Compressor</td>\n",
       "    </tr>\n",
       "    <tr>\n",
       "      <th>3</th>\n",
       "      <td>Midea 1 Ton 3 Star Split AC  - White</td>\n",
       "      <td>21990.0</td>\n",
       "      <td>4.3</td>\n",
       "      <td>Condenser Coil: CopperPower Consumption: 980 W...</td>\n",
       "      <td>Midea</td>\n",
       "      <td>1 Ton</td>\n",
       "      <td>980 W</td>\n",
       "      <td>Copper</td>\n",
       "      <td>39 dB</td>\n",
       "      <td>No</td>\n",
       "      <td>3 Star</td>\n",
       "      <td>5 Years on Compressor</td>\n",
       "    </tr>\n",
       "    <tr>\n",
       "      <th>4</th>\n",
       "      <td>MarQ By Flipkart 1 Ton 3 Star Split Inverter A...</td>\n",
       "      <td>20990.0</td>\n",
       "      <td>4.3</td>\n",
       "      <td>Condenser Coil: CopperPower Consumption: 1110 ...</td>\n",
       "      <td>MarQ</td>\n",
       "      <td>1 Ton</td>\n",
       "      <td>1110 W</td>\n",
       "      <td>Copper</td>\n",
       "      <td>32.5 db</td>\n",
       "      <td>No</td>\n",
       "      <td>3 Star</td>\n",
       "      <td>5 Years on Compressor</td>\n",
       "    </tr>\n",
       "  </tbody>\n",
       "</table>\n",
       "</div>"
      ],
      "text/plain": [
       "                                               Model    Price Rating  \\\n",
       "0  CARRIER 1.2 Ton 5 Star Split Inverter AC  - White  33990.0    4.2   \n",
       "1  CARRIER 4 in 1 Convertible Cooling 1.5 Ton 5 S...  39990.0    4.2   \n",
       "2  SAMSUNG 1.5 Ton 3 Star Split Inverter AC  - Wh...  29990.0    4.2   \n",
       "3               Midea 1 Ton 3 Star Split AC  - White  21990.0    4.3   \n",
       "4  MarQ By Flipkart 1 Ton 3 Star Split Inverter A...  20990.0    4.3   \n",
       "\n",
       "                                               Specs    Brand  Capacity  \\\n",
       "0  Condenser Coil: CopperPower Consumption: 1050 ...  CARRIER   1.2 Ton   \n",
       "1  Condenser Coil: CopperPower Consumption: 1500 ...  CARRIER   1.5 Ton   \n",
       "2  Condenser Coil: CopperPower Consumption: 1748 ...  SAMSUNG   1.5 Ton   \n",
       "3  Condenser Coil: CopperPower Consumption: 980 W...    Midea     1 Ton   \n",
       "4  Condenser Coil: CopperPower Consumption: 1110 ...     MarQ     1 Ton   \n",
       "\n",
       "  Power Consumption Condenser Coil Noise Level Wi-Fi Energy Saving  \\\n",
       "0            1050 W         Copper       32 dB    No        5 Star   \n",
       "1            1500 W         Copper       38 dB    No        5 Star   \n",
       "2            1748 W         Copper       52 dB    No        3 Star   \n",
       "3             980 W         Copper       39 dB    No        3 Star   \n",
       "4            1110 W         Copper     32.5 db    No        3 Star   \n",
       "\n",
       "                          Compressor_Warranty  \n",
       "0                      10 Years on Compressor  \n",
       "1   2 Years on PCB and 10 Years on Compressor  \n",
       "2                      10 years on Compressor  \n",
       "3                       5 Years on Compressor  \n",
       "4                       5 Years on Compressor  "
      ]
     },
     "execution_count": 1024,
     "metadata": {},
     "output_type": "execute_result"
    }
   ],
   "source": [
    "ac.head()"
   ]
  },
  {
   "cell_type": "code",
   "execution_count": null,
   "metadata": {},
   "outputs": [],
   "source": []
  },
  {
   "cell_type": "code",
   "execution_count": 884,
   "metadata": {},
   "outputs": [
    {
     "data": {
      "text/plain": [
       "'Condenser Coil: CopperPower Consumption: 1748 WNoise level: 52 dBWi-Fi Enabled: No1 Year comprehensive and 10 years on Compressor'"
      ]
     },
     "execution_count": 884,
     "metadata": {},
     "output_type": "execute_result"
    }
   ],
   "source": [
    "ac[\"Specs\"][2]"
   ]
  },
  {
   "cell_type": "code",
   "execution_count": 1025,
   "metadata": {},
   "outputs": [],
   "source": [
    "#Creating Color column\n",
    "regex=\"(?:\\-)(\\s\\w+)\"\n",
    "ac[\"color\"]=ac[\"Model\"].apply(lambda x:\"\".join(re.compile(regex).findall(x)))"
   ]
  },
  {
   "cell_type": "code",
   "execution_count": 1026,
   "metadata": {},
   "outputs": [],
   "source": [
    "c=[]\n",
    "for i in ac[\"color\"]:\n",
    "    if(i==\"\"):\n",
    "        c.append(np.nan)\n",
    "    else:\n",
    "        c.append(i)"
   ]
  },
  {
   "cell_type": "code",
   "execution_count": 1027,
   "metadata": {},
   "outputs": [],
   "source": [
    "ac[\"color\"]=c"
   ]
  },
  {
   "cell_type": "code",
   "execution_count": null,
   "metadata": {},
   "outputs": [],
   "source": []
  },
  {
   "cell_type": "code",
   "execution_count": 1028,
   "metadata": {},
   "outputs": [
    {
     "data": {
      "text/html": [
       "<div>\n",
       "<style scoped>\n",
       "    .dataframe tbody tr th:only-of-type {\n",
       "        vertical-align: middle;\n",
       "    }\n",
       "\n",
       "    .dataframe tbody tr th {\n",
       "        vertical-align: top;\n",
       "    }\n",
       "\n",
       "    .dataframe thead th {\n",
       "        text-align: right;\n",
       "    }\n",
       "</style>\n",
       "<table border=\"1\" class=\"dataframe\">\n",
       "  <thead>\n",
       "    <tr style=\"text-align: right;\">\n",
       "      <th></th>\n",
       "      <th>Model</th>\n",
       "      <th>Price</th>\n",
       "      <th>Rating</th>\n",
       "      <th>Specs</th>\n",
       "      <th>Brand</th>\n",
       "      <th>Capacity</th>\n",
       "      <th>Power Consumption</th>\n",
       "      <th>Condenser Coil</th>\n",
       "      <th>Noise Level</th>\n",
       "      <th>Wi-Fi</th>\n",
       "      <th>Energy Saving</th>\n",
       "      <th>Compressor_Warranty</th>\n",
       "      <th>color</th>\n",
       "    </tr>\n",
       "  </thead>\n",
       "  <tbody>\n",
       "    <tr>\n",
       "      <th>0</th>\n",
       "      <td>CARRIER 1.2 Ton 5 Star Split Inverter AC  - White</td>\n",
       "      <td>33990.0</td>\n",
       "      <td>4.2</td>\n",
       "      <td>Condenser Coil: CopperPower Consumption: 1050 ...</td>\n",
       "      <td>CARRIER</td>\n",
       "      <td>1.2 Ton</td>\n",
       "      <td>1050 W</td>\n",
       "      <td>Copper</td>\n",
       "      <td>32 dB</td>\n",
       "      <td>No</td>\n",
       "      <td>5 Star</td>\n",
       "      <td>10 Years on Compressor</td>\n",
       "      <td>White</td>\n",
       "    </tr>\n",
       "    <tr>\n",
       "      <th>1</th>\n",
       "      <td>CARRIER 4 in 1 Convertible Cooling 1.5 Ton 5 S...</td>\n",
       "      <td>39990.0</td>\n",
       "      <td>4.2</td>\n",
       "      <td>Condenser Coil: CopperPower Consumption: 1500 ...</td>\n",
       "      <td>CARRIER</td>\n",
       "      <td>1.5 Ton</td>\n",
       "      <td>1500 W</td>\n",
       "      <td>Copper</td>\n",
       "      <td>38 dB</td>\n",
       "      <td>No</td>\n",
       "      <td>5 Star</td>\n",
       "      <td>2 Years on PCB and 10 Years on Compressor</td>\n",
       "      <td>White</td>\n",
       "    </tr>\n",
       "    <tr>\n",
       "      <th>2</th>\n",
       "      <td>SAMSUNG 1.5 Ton 3 Star Split Inverter AC  - Wh...</td>\n",
       "      <td>29990.0</td>\n",
       "      <td>4.2</td>\n",
       "      <td>Condenser Coil: CopperPower Consumption: 1748 ...</td>\n",
       "      <td>SAMSUNG</td>\n",
       "      <td>1.5 Ton</td>\n",
       "      <td>1748 W</td>\n",
       "      <td>Copper</td>\n",
       "      <td>52 dB</td>\n",
       "      <td>No</td>\n",
       "      <td>3 Star</td>\n",
       "      <td>10 years on Compressor</td>\n",
       "      <td>White</td>\n",
       "    </tr>\n",
       "    <tr>\n",
       "      <th>3</th>\n",
       "      <td>Midea 1 Ton 3 Star Split AC  - White</td>\n",
       "      <td>21990.0</td>\n",
       "      <td>4.3</td>\n",
       "      <td>Condenser Coil: CopperPower Consumption: 980 W...</td>\n",
       "      <td>Midea</td>\n",
       "      <td>1 Ton</td>\n",
       "      <td>980 W</td>\n",
       "      <td>Copper</td>\n",
       "      <td>39 dB</td>\n",
       "      <td>No</td>\n",
       "      <td>3 Star</td>\n",
       "      <td>5 Years on Compressor</td>\n",
       "      <td>White</td>\n",
       "    </tr>\n",
       "    <tr>\n",
       "      <th>4</th>\n",
       "      <td>MarQ By Flipkart 1 Ton 3 Star Split Inverter A...</td>\n",
       "      <td>20990.0</td>\n",
       "      <td>4.3</td>\n",
       "      <td>Condenser Coil: CopperPower Consumption: 1110 ...</td>\n",
       "      <td>MarQ</td>\n",
       "      <td>1 Ton</td>\n",
       "      <td>1110 W</td>\n",
       "      <td>Copper</td>\n",
       "      <td>32.5 db</td>\n",
       "      <td>No</td>\n",
       "      <td>3 Star</td>\n",
       "      <td>5 Years on Compressor</td>\n",
       "      <td>White</td>\n",
       "    </tr>\n",
       "  </tbody>\n",
       "</table>\n",
       "</div>"
      ],
      "text/plain": [
       "                                               Model    Price Rating  \\\n",
       "0  CARRIER 1.2 Ton 5 Star Split Inverter AC  - White  33990.0    4.2   \n",
       "1  CARRIER 4 in 1 Convertible Cooling 1.5 Ton 5 S...  39990.0    4.2   \n",
       "2  SAMSUNG 1.5 Ton 3 Star Split Inverter AC  - Wh...  29990.0    4.2   \n",
       "3               Midea 1 Ton 3 Star Split AC  - White  21990.0    4.3   \n",
       "4  MarQ By Flipkart 1 Ton 3 Star Split Inverter A...  20990.0    4.3   \n",
       "\n",
       "                                               Specs    Brand  Capacity  \\\n",
       "0  Condenser Coil: CopperPower Consumption: 1050 ...  CARRIER   1.2 Ton   \n",
       "1  Condenser Coil: CopperPower Consumption: 1500 ...  CARRIER   1.5 Ton   \n",
       "2  Condenser Coil: CopperPower Consumption: 1748 ...  SAMSUNG   1.5 Ton   \n",
       "3  Condenser Coil: CopperPower Consumption: 980 W...    Midea     1 Ton   \n",
       "4  Condenser Coil: CopperPower Consumption: 1110 ...     MarQ     1 Ton   \n",
       "\n",
       "  Power Consumption Condenser Coil Noise Level Wi-Fi Energy Saving  \\\n",
       "0            1050 W         Copper       32 dB    No        5 Star   \n",
       "1            1500 W         Copper       38 dB    No        5 Star   \n",
       "2            1748 W         Copper       52 dB    No        3 Star   \n",
       "3             980 W         Copper       39 dB    No        3 Star   \n",
       "4            1110 W         Copper     32.5 db    No        3 Star   \n",
       "\n",
       "                          Compressor_Warranty   color  \n",
       "0                      10 Years on Compressor   White  \n",
       "1   2 Years on PCB and 10 Years on Compressor   White  \n",
       "2                      10 years on Compressor   White  \n",
       "3                       5 Years on Compressor   White  \n",
       "4                       5 Years on Compressor   White  "
      ]
     },
     "execution_count": 1028,
     "metadata": {},
     "output_type": "execute_result"
    }
   ],
   "source": [
    "ac.head()"
   ]
  },
  {
   "cell_type": "code",
   "execution_count": null,
   "metadata": {},
   "outputs": [],
   "source": []
  },
  {
   "cell_type": "code",
   "execution_count": 1029,
   "metadata": {},
   "outputs": [],
   "source": [
    "regex=\"(Split|Window|split|window)\"\n",
    "ac[\"Type\"]=ac[\"Model\"].apply(lambda x:\"\".join(re.compile(regex).findall(x)))"
   ]
  },
  {
   "cell_type": "code",
   "execution_count": 1030,
   "metadata": {},
   "outputs": [],
   "source": [
    "T=[]\n",
    "for i in ac[\"Type\"]:\n",
    "    if(i==\"\"):\n",
    "        T.append(np.nan)\n",
    "    else:\n",
    "        T.append(i)"
   ]
  },
  {
   "cell_type": "code",
   "execution_count": 1031,
   "metadata": {},
   "outputs": [],
   "source": [
    "ac[\"Type\"]=T"
   ]
  },
  {
   "cell_type": "code",
   "execution_count": null,
   "metadata": {},
   "outputs": [],
   "source": []
  },
  {
   "cell_type": "code",
   "execution_count": 1032,
   "metadata": {},
   "outputs": [
    {
     "data": {
      "text/html": [
       "<div>\n",
       "<style scoped>\n",
       "    .dataframe tbody tr th:only-of-type {\n",
       "        vertical-align: middle;\n",
       "    }\n",
       "\n",
       "    .dataframe tbody tr th {\n",
       "        vertical-align: top;\n",
       "    }\n",
       "\n",
       "    .dataframe thead th {\n",
       "        text-align: right;\n",
       "    }\n",
       "</style>\n",
       "<table border=\"1\" class=\"dataframe\">\n",
       "  <thead>\n",
       "    <tr style=\"text-align: right;\">\n",
       "      <th></th>\n",
       "      <th>Model</th>\n",
       "      <th>Price</th>\n",
       "      <th>Rating</th>\n",
       "      <th>Specs</th>\n",
       "      <th>Brand</th>\n",
       "      <th>Capacity</th>\n",
       "      <th>Power Consumption</th>\n",
       "      <th>Condenser Coil</th>\n",
       "      <th>Noise Level</th>\n",
       "      <th>Wi-Fi</th>\n",
       "      <th>Energy Saving</th>\n",
       "      <th>Compressor_Warranty</th>\n",
       "      <th>color</th>\n",
       "      <th>Type</th>\n",
       "    </tr>\n",
       "  </thead>\n",
       "  <tbody>\n",
       "    <tr>\n",
       "      <th>0</th>\n",
       "      <td>CARRIER 1.2 Ton 5 Star Split Inverter AC  - White</td>\n",
       "      <td>33990.0</td>\n",
       "      <td>4.2</td>\n",
       "      <td>Condenser Coil: CopperPower Consumption: 1050 ...</td>\n",
       "      <td>CARRIER</td>\n",
       "      <td>1.2 Ton</td>\n",
       "      <td>1050 W</td>\n",
       "      <td>Copper</td>\n",
       "      <td>32 dB</td>\n",
       "      <td>No</td>\n",
       "      <td>5 Star</td>\n",
       "      <td>10 Years on Compressor</td>\n",
       "      <td>White</td>\n",
       "      <td>Split</td>\n",
       "    </tr>\n",
       "    <tr>\n",
       "      <th>1</th>\n",
       "      <td>CARRIER 4 in 1 Convertible Cooling 1.5 Ton 5 S...</td>\n",
       "      <td>39990.0</td>\n",
       "      <td>4.2</td>\n",
       "      <td>Condenser Coil: CopperPower Consumption: 1500 ...</td>\n",
       "      <td>CARRIER</td>\n",
       "      <td>1.5 Ton</td>\n",
       "      <td>1500 W</td>\n",
       "      <td>Copper</td>\n",
       "      <td>38 dB</td>\n",
       "      <td>No</td>\n",
       "      <td>5 Star</td>\n",
       "      <td>2 Years on PCB and 10 Years on Compressor</td>\n",
       "      <td>White</td>\n",
       "      <td>Split</td>\n",
       "    </tr>\n",
       "    <tr>\n",
       "      <th>2</th>\n",
       "      <td>SAMSUNG 1.5 Ton 3 Star Split Inverter AC  - Wh...</td>\n",
       "      <td>29990.0</td>\n",
       "      <td>4.2</td>\n",
       "      <td>Condenser Coil: CopperPower Consumption: 1748 ...</td>\n",
       "      <td>SAMSUNG</td>\n",
       "      <td>1.5 Ton</td>\n",
       "      <td>1748 W</td>\n",
       "      <td>Copper</td>\n",
       "      <td>52 dB</td>\n",
       "      <td>No</td>\n",
       "      <td>3 Star</td>\n",
       "      <td>10 years on Compressor</td>\n",
       "      <td>White</td>\n",
       "      <td>Split</td>\n",
       "    </tr>\n",
       "    <tr>\n",
       "      <th>3</th>\n",
       "      <td>Midea 1 Ton 3 Star Split AC  - White</td>\n",
       "      <td>21990.0</td>\n",
       "      <td>4.3</td>\n",
       "      <td>Condenser Coil: CopperPower Consumption: 980 W...</td>\n",
       "      <td>Midea</td>\n",
       "      <td>1 Ton</td>\n",
       "      <td>980 W</td>\n",
       "      <td>Copper</td>\n",
       "      <td>39 dB</td>\n",
       "      <td>No</td>\n",
       "      <td>3 Star</td>\n",
       "      <td>5 Years on Compressor</td>\n",
       "      <td>White</td>\n",
       "      <td>Split</td>\n",
       "    </tr>\n",
       "    <tr>\n",
       "      <th>4</th>\n",
       "      <td>MarQ By Flipkart 1 Ton 3 Star Split Inverter A...</td>\n",
       "      <td>20990.0</td>\n",
       "      <td>4.3</td>\n",
       "      <td>Condenser Coil: CopperPower Consumption: 1110 ...</td>\n",
       "      <td>MarQ</td>\n",
       "      <td>1 Ton</td>\n",
       "      <td>1110 W</td>\n",
       "      <td>Copper</td>\n",
       "      <td>32.5 db</td>\n",
       "      <td>No</td>\n",
       "      <td>3 Star</td>\n",
       "      <td>5 Years on Compressor</td>\n",
       "      <td>White</td>\n",
       "      <td>Split</td>\n",
       "    </tr>\n",
       "  </tbody>\n",
       "</table>\n",
       "</div>"
      ],
      "text/plain": [
       "                                               Model    Price Rating  \\\n",
       "0  CARRIER 1.2 Ton 5 Star Split Inverter AC  - White  33990.0    4.2   \n",
       "1  CARRIER 4 in 1 Convertible Cooling 1.5 Ton 5 S...  39990.0    4.2   \n",
       "2  SAMSUNG 1.5 Ton 3 Star Split Inverter AC  - Wh...  29990.0    4.2   \n",
       "3               Midea 1 Ton 3 Star Split AC  - White  21990.0    4.3   \n",
       "4  MarQ By Flipkart 1 Ton 3 Star Split Inverter A...  20990.0    4.3   \n",
       "\n",
       "                                               Specs    Brand  Capacity  \\\n",
       "0  Condenser Coil: CopperPower Consumption: 1050 ...  CARRIER   1.2 Ton   \n",
       "1  Condenser Coil: CopperPower Consumption: 1500 ...  CARRIER   1.5 Ton   \n",
       "2  Condenser Coil: CopperPower Consumption: 1748 ...  SAMSUNG   1.5 Ton   \n",
       "3  Condenser Coil: CopperPower Consumption: 980 W...    Midea     1 Ton   \n",
       "4  Condenser Coil: CopperPower Consumption: 1110 ...     MarQ     1 Ton   \n",
       "\n",
       "  Power Consumption Condenser Coil Noise Level Wi-Fi Energy Saving  \\\n",
       "0            1050 W         Copper       32 dB    No        5 Star   \n",
       "1            1500 W         Copper       38 dB    No        5 Star   \n",
       "2            1748 W         Copper       52 dB    No        3 Star   \n",
       "3             980 W         Copper       39 dB    No        3 Star   \n",
       "4            1110 W         Copper     32.5 db    No        3 Star   \n",
       "\n",
       "                          Compressor_Warranty   color   Type  \n",
       "0                      10 Years on Compressor   White  Split  \n",
       "1   2 Years on PCB and 10 Years on Compressor   White  Split  \n",
       "2                      10 years on Compressor   White  Split  \n",
       "3                       5 Years on Compressor   White  Split  \n",
       "4                       5 Years on Compressor   White  Split  "
      ]
     },
     "execution_count": 1032,
     "metadata": {},
     "output_type": "execute_result"
    }
   ],
   "source": [
    "ac.head()"
   ]
  },
  {
   "cell_type": "code",
   "execution_count": 765,
   "metadata": {},
   "outputs": [],
   "source": []
  },
  {
   "cell_type": "code",
   "execution_count": 1033,
   "metadata": {},
   "outputs": [
    {
     "data": {
      "text/plain": [
       "Model                   0\n",
       "Price                   0\n",
       "Rating                 47\n",
       "Specs                   0\n",
       "Brand                   0\n",
       "Capacity                0\n",
       "Power Consumption      27\n",
       "Condenser Coil         36\n",
       "Noise Level            30\n",
       "Wi-Fi                   1\n",
       "Energy Saving          12\n",
       "Compressor_Warranty    51\n",
       "color                   0\n",
       "Type                    2\n",
       "dtype: int64"
      ]
     },
     "execution_count": 1033,
     "metadata": {},
     "output_type": "execute_result"
    }
   ],
   "source": [
    "ac.isnull().sum()"
   ]
  },
  {
   "cell_type": "code",
   "execution_count": 304,
   "metadata": {},
   "outputs": [],
   "source": []
  },
  {
   "cell_type": "code",
   "execution_count": null,
   "metadata": {
    "scrolled": true
   },
   "outputs": [],
   "source": []
  },
  {
   "cell_type": "code",
   "execution_count": 1035,
   "metadata": {},
   "outputs": [
    {
     "data": {
      "text/plain": [
       "Model                   object\n",
       "Price                  float64\n",
       "Rating                  object\n",
       "Specs                   object\n",
       "Brand                   object\n",
       "Capacity                object\n",
       "Power Consumption       object\n",
       "Condenser Coil          object\n",
       "Noise Level             object\n",
       "Wi-Fi                   object\n",
       "Energy Saving           object\n",
       "Compressor_Warranty     object\n",
       "color                   object\n",
       "Type                    object\n",
       "dtype: object"
      ]
     },
     "execution_count": 1035,
     "metadata": {},
     "output_type": "execute_result"
    }
   ],
   "source": [
    "ac.dtypes"
   ]
  },
  {
   "cell_type": "markdown",
   "metadata": {},
   "source": [
    "### Filling Null Values with Statistical methods for categorical and numerical values"
   ]
  },
  {
   "cell_type": "code",
   "execution_count": 1036,
   "metadata": {},
   "outputs": [],
   "source": [
    "#Changing Rating column from Object to float\n",
    "ac[\"Rating\"]=(ac[\"Rating\"]).astype(float)"
   ]
  },
  {
   "cell_type": "code",
   "execution_count": 1037,
   "metadata": {},
   "outputs": [],
   "source": [
    "A=ac[\"Rating\"].mean()"
   ]
  },
  {
   "cell_type": "code",
   "execution_count": 1038,
   "metadata": {},
   "outputs": [
    {
     "data": {
      "text/plain": [
       "4.235696821515888"
      ]
     },
     "execution_count": 1038,
     "metadata": {},
     "output_type": "execute_result"
    }
   ],
   "source": [
    "A"
   ]
  },
  {
   "cell_type": "code",
   "execution_count": 1039,
   "metadata": {},
   "outputs": [],
   "source": [
    "#Rounding mean value\n",
    "B=round(A,1)"
   ]
  },
  {
   "cell_type": "code",
   "execution_count": 1040,
   "metadata": {},
   "outputs": [
    {
     "data": {
      "text/plain": [
       "4.2"
      ]
     },
     "execution_count": 1040,
     "metadata": {},
     "output_type": "execute_result"
    }
   ],
   "source": [
    "B"
   ]
  },
  {
   "cell_type": "code",
   "execution_count": 1041,
   "metadata": {},
   "outputs": [],
   "source": [
    "ac[\"Rating\"]=ac[\"Rating\"].fillna(B)"
   ]
  },
  {
   "cell_type": "code",
   "execution_count": null,
   "metadata": {},
   "outputs": [],
   "source": []
  },
  {
   "cell_type": "code",
   "execution_count": 1042,
   "metadata": {},
   "outputs": [],
   "source": [
    "\n",
    "ac[\"Power Consumption\"]=ac[\"Power Consumption\"].fillna(ac[\"Power Consumption\"].mode()[0])"
   ]
  },
  {
   "cell_type": "code",
   "execution_count": 1043,
   "metadata": {},
   "outputs": [],
   "source": [
    "ac[\"Condenser Coil\"]=ac[\"Condenser Coil\"].fillna(ac[\"Condenser Coil\"].mode()[0])"
   ]
  },
  {
   "cell_type": "code",
   "execution_count": 1044,
   "metadata": {},
   "outputs": [],
   "source": [
    "ac[\"Noise Level\"]=ac[\"Noise Level\"].fillna(ac[\"Noise Level\"].mode()[0])"
   ]
  },
  {
   "cell_type": "code",
   "execution_count": 1045,
   "metadata": {},
   "outputs": [],
   "source": [
    "ac[\"Wi-Fi\"]=ac[\"Wi-Fi\"].fillna(ac[\"Wi-Fi\"].mode()[0])"
   ]
  },
  {
   "cell_type": "code",
   "execution_count": 1046,
   "metadata": {},
   "outputs": [],
   "source": [
    "ac[\"Energy Saving\"]=ac[\"Energy Saving\"].fillna(ac[\"Energy Saving\"].mode()[0])"
   ]
  },
  {
   "cell_type": "code",
   "execution_count": 1047,
   "metadata": {},
   "outputs": [],
   "source": [
    "ac[\"Compressor_Warranty\"]=ac[\"Compressor_Warranty\"].fillna(ac[\"Compressor_Warranty\"].mode()[0])"
   ]
  },
  {
   "cell_type": "code",
   "execution_count": 1048,
   "metadata": {},
   "outputs": [],
   "source": [
    "ac[\"Type\"]=ac[\"Type\"].fillna(ac[\"Type\"].mode()[0])"
   ]
  },
  {
   "cell_type": "code",
   "execution_count": null,
   "metadata": {},
   "outputs": [],
   "source": []
  },
  {
   "cell_type": "code",
   "execution_count": 1049,
   "metadata": {},
   "outputs": [
    {
     "data": {
      "text/html": [
       "<div>\n",
       "<style scoped>\n",
       "    .dataframe tbody tr th:only-of-type {\n",
       "        vertical-align: middle;\n",
       "    }\n",
       "\n",
       "    .dataframe tbody tr th {\n",
       "        vertical-align: top;\n",
       "    }\n",
       "\n",
       "    .dataframe thead th {\n",
       "        text-align: right;\n",
       "    }\n",
       "</style>\n",
       "<table border=\"1\" class=\"dataframe\">\n",
       "  <thead>\n",
       "    <tr style=\"text-align: right;\">\n",
       "      <th></th>\n",
       "      <th>Model</th>\n",
       "      <th>Price</th>\n",
       "      <th>Rating</th>\n",
       "      <th>Specs</th>\n",
       "      <th>Brand</th>\n",
       "      <th>Capacity</th>\n",
       "      <th>Power Consumption</th>\n",
       "      <th>Condenser Coil</th>\n",
       "      <th>Noise Level</th>\n",
       "      <th>Wi-Fi</th>\n",
       "      <th>Energy Saving</th>\n",
       "      <th>Compressor_Warranty</th>\n",
       "      <th>color</th>\n",
       "      <th>Type</th>\n",
       "    </tr>\n",
       "  </thead>\n",
       "  <tbody>\n",
       "    <tr>\n",
       "      <th>0</th>\n",
       "      <td>CARRIER 1.2 Ton 5 Star Split Inverter AC  - White</td>\n",
       "      <td>33990.0</td>\n",
       "      <td>4.2</td>\n",
       "      <td>Condenser Coil: CopperPower Consumption: 1050 ...</td>\n",
       "      <td>CARRIER</td>\n",
       "      <td>1.2 Ton</td>\n",
       "      <td>1050 W</td>\n",
       "      <td>Copper</td>\n",
       "      <td>32 dB</td>\n",
       "      <td>No</td>\n",
       "      <td>5 Star</td>\n",
       "      <td>10 Years on Compressor</td>\n",
       "      <td>White</td>\n",
       "      <td>Split</td>\n",
       "    </tr>\n",
       "    <tr>\n",
       "      <th>1</th>\n",
       "      <td>CARRIER 4 in 1 Convertible Cooling 1.5 Ton 5 S...</td>\n",
       "      <td>39990.0</td>\n",
       "      <td>4.2</td>\n",
       "      <td>Condenser Coil: CopperPower Consumption: 1500 ...</td>\n",
       "      <td>CARRIER</td>\n",
       "      <td>1.5 Ton</td>\n",
       "      <td>1500 W</td>\n",
       "      <td>Copper</td>\n",
       "      <td>38 dB</td>\n",
       "      <td>No</td>\n",
       "      <td>5 Star</td>\n",
       "      <td>2 Years on PCB and 10 Years on Compressor</td>\n",
       "      <td>White</td>\n",
       "      <td>Split</td>\n",
       "    </tr>\n",
       "    <tr>\n",
       "      <th>2</th>\n",
       "      <td>SAMSUNG 1.5 Ton 3 Star Split Inverter AC  - Wh...</td>\n",
       "      <td>29990.0</td>\n",
       "      <td>4.2</td>\n",
       "      <td>Condenser Coil: CopperPower Consumption: 1748 ...</td>\n",
       "      <td>SAMSUNG</td>\n",
       "      <td>1.5 Ton</td>\n",
       "      <td>1748 W</td>\n",
       "      <td>Copper</td>\n",
       "      <td>52 dB</td>\n",
       "      <td>No</td>\n",
       "      <td>3 Star</td>\n",
       "      <td>10 years on Compressor</td>\n",
       "      <td>White</td>\n",
       "      <td>Split</td>\n",
       "    </tr>\n",
       "    <tr>\n",
       "      <th>3</th>\n",
       "      <td>Midea 1 Ton 3 Star Split AC  - White</td>\n",
       "      <td>21990.0</td>\n",
       "      <td>4.3</td>\n",
       "      <td>Condenser Coil: CopperPower Consumption: 980 W...</td>\n",
       "      <td>Midea</td>\n",
       "      <td>1 Ton</td>\n",
       "      <td>980 W</td>\n",
       "      <td>Copper</td>\n",
       "      <td>39 dB</td>\n",
       "      <td>No</td>\n",
       "      <td>3 Star</td>\n",
       "      <td>5 Years on Compressor</td>\n",
       "      <td>White</td>\n",
       "      <td>Split</td>\n",
       "    </tr>\n",
       "    <tr>\n",
       "      <th>4</th>\n",
       "      <td>MarQ By Flipkart 1 Ton 3 Star Split Inverter A...</td>\n",
       "      <td>20990.0</td>\n",
       "      <td>4.3</td>\n",
       "      <td>Condenser Coil: CopperPower Consumption: 1110 ...</td>\n",
       "      <td>MarQ</td>\n",
       "      <td>1 Ton</td>\n",
       "      <td>1110 W</td>\n",
       "      <td>Copper</td>\n",
       "      <td>32.5 db</td>\n",
       "      <td>No</td>\n",
       "      <td>3 Star</td>\n",
       "      <td>5 Years on Compressor</td>\n",
       "      <td>White</td>\n",
       "      <td>Split</td>\n",
       "    </tr>\n",
       "  </tbody>\n",
       "</table>\n",
       "</div>"
      ],
      "text/plain": [
       "                                               Model    Price  Rating  \\\n",
       "0  CARRIER 1.2 Ton 5 Star Split Inverter AC  - White  33990.0     4.2   \n",
       "1  CARRIER 4 in 1 Convertible Cooling 1.5 Ton 5 S...  39990.0     4.2   \n",
       "2  SAMSUNG 1.5 Ton 3 Star Split Inverter AC  - Wh...  29990.0     4.2   \n",
       "3               Midea 1 Ton 3 Star Split AC  - White  21990.0     4.3   \n",
       "4  MarQ By Flipkart 1 Ton 3 Star Split Inverter A...  20990.0     4.3   \n",
       "\n",
       "                                               Specs    Brand  Capacity  \\\n",
       "0  Condenser Coil: CopperPower Consumption: 1050 ...  CARRIER   1.2 Ton   \n",
       "1  Condenser Coil: CopperPower Consumption: 1500 ...  CARRIER   1.5 Ton   \n",
       "2  Condenser Coil: CopperPower Consumption: 1748 ...  SAMSUNG   1.5 Ton   \n",
       "3  Condenser Coil: CopperPower Consumption: 980 W...    Midea     1 Ton   \n",
       "4  Condenser Coil: CopperPower Consumption: 1110 ...     MarQ     1 Ton   \n",
       "\n",
       "  Power Consumption Condenser Coil Noise Level Wi-Fi Energy Saving  \\\n",
       "0            1050 W         Copper       32 dB    No        5 Star   \n",
       "1            1500 W         Copper       38 dB    No        5 Star   \n",
       "2            1748 W         Copper       52 dB    No        3 Star   \n",
       "3             980 W         Copper       39 dB    No        3 Star   \n",
       "4            1110 W         Copper     32.5 db    No        3 Star   \n",
       "\n",
       "                          Compressor_Warranty   color   Type  \n",
       "0                      10 Years on Compressor   White  Split  \n",
       "1   2 Years on PCB and 10 Years on Compressor   White  Split  \n",
       "2                      10 years on Compressor   White  Split  \n",
       "3                       5 Years on Compressor   White  Split  \n",
       "4                       5 Years on Compressor   White  Split  "
      ]
     },
     "execution_count": 1049,
     "metadata": {},
     "output_type": "execute_result"
    }
   ],
   "source": [
    "ac.head()"
   ]
  },
  {
   "cell_type": "code",
   "execution_count": 384,
   "metadata": {},
   "outputs": [],
   "source": []
  },
  {
   "cell_type": "code",
   "execution_count": 1050,
   "metadata": {},
   "outputs": [],
   "source": [
    "ac.to_csv(\"C:\\\\Users\\\\pruthvi ch\\\\Air_Conditioners.csv\")"
   ]
  },
  {
   "cell_type": "code",
   "execution_count": 1051,
   "metadata": {},
   "outputs": [
    {
     "data": {
      "text/plain": [
       "Model                  0\n",
       "Price                  0\n",
       "Rating                 0\n",
       "Specs                  0\n",
       "Brand                  0\n",
       "Capacity               0\n",
       "Power Consumption      0\n",
       "Condenser Coil         0\n",
       "Noise Level            0\n",
       "Wi-Fi                  0\n",
       "Energy Saving          0\n",
       "Compressor_Warranty    0\n",
       "color                  0\n",
       "Type                   0\n",
       "dtype: int64"
      ]
     },
     "execution_count": 1051,
     "metadata": {},
     "output_type": "execute_result"
    }
   ],
   "source": [
    "ac.isnull().sum()"
   ]
  },
  {
   "cell_type": "code",
   "execution_count": 1086,
   "metadata": {},
   "outputs": [
    {
     "data": {
      "text/html": [
       "<div>\n",
       "<style scoped>\n",
       "    .dataframe tbody tr th:only-of-type {\n",
       "        vertical-align: middle;\n",
       "    }\n",
       "\n",
       "    .dataframe tbody tr th {\n",
       "        vertical-align: top;\n",
       "    }\n",
       "\n",
       "    .dataframe thead th {\n",
       "        text-align: right;\n",
       "    }\n",
       "</style>\n",
       "<table border=\"1\" class=\"dataframe\">\n",
       "  <thead>\n",
       "    <tr style=\"text-align: right;\">\n",
       "      <th></th>\n",
       "      <th>Model</th>\n",
       "      <th>Price</th>\n",
       "      <th>Rating</th>\n",
       "      <th>Specs</th>\n",
       "      <th>Brand</th>\n",
       "      <th>Capacity</th>\n",
       "      <th>Power Consumption</th>\n",
       "      <th>Condenser Coil</th>\n",
       "      <th>Noise Level</th>\n",
       "      <th>Wi-Fi</th>\n",
       "      <th>Energy Saving</th>\n",
       "      <th>Compressor_Warranty</th>\n",
       "      <th>color</th>\n",
       "      <th>Type</th>\n",
       "      <th>Page</th>\n",
       "    </tr>\n",
       "  </thead>\n",
       "  <tbody>\n",
       "    <tr>\n",
       "      <th>451</th>\n",
       "      <td>LG 1 Ton 3 Star Split Inverter AC  - White</td>\n",
       "      <td>33499.0</td>\n",
       "      <td>4.4</td>\n",
       "      <td>Condenser Coil: CopperRefrigerant: R-410AWi-Fi...</td>\n",
       "      <td>LG</td>\n",
       "      <td>1 Ton</td>\n",
       "      <td>1050 W</td>\n",
       "      <td>Copper</td>\n",
       "      <td>46 dB</td>\n",
       "      <td>No</td>\n",
       "      <td>3 Star</td>\n",
       "      <td>10 Years on Compressor</td>\n",
       "      <td>White</td>\n",
       "      <td>Split</td>\n",
       "      <td>19</td>\n",
       "    </tr>\n",
       "    <tr>\n",
       "      <th>452</th>\n",
       "      <td>Blue Star 1 Ton 3 Star Window AC  - White</td>\n",
       "      <td>23900.0</td>\n",
       "      <td>4.3</td>\n",
       "      <td>Power Consumption: 1115 WRefrigerant: R-22Ambi...</td>\n",
       "      <td>Blue Star</td>\n",
       "      <td>1 Ton</td>\n",
       "      <td>1115 W</td>\n",
       "      <td>Copper</td>\n",
       "      <td>46 dB</td>\n",
       "      <td>No</td>\n",
       "      <td>3 Star</td>\n",
       "      <td>5 Years on Compressor</td>\n",
       "      <td>White</td>\n",
       "      <td>Window</td>\n",
       "      <td>19</td>\n",
       "    </tr>\n",
       "    <tr>\n",
       "      <th>453</th>\n",
       "      <td>Voltas 1.5 Ton 3 Star Split Inverter AC  - White</td>\n",
       "      <td>31490.0</td>\n",
       "      <td>4.3</td>\n",
       "      <td>Condenser Coil: CopperPower Consumption: 1590 ...</td>\n",
       "      <td>Voltas</td>\n",
       "      <td>1.5 Ton</td>\n",
       "      <td>1590 W</td>\n",
       "      <td>Copper</td>\n",
       "      <td>52 dB</td>\n",
       "      <td>No</td>\n",
       "      <td>3 Star</td>\n",
       "      <td>5 Years on Compressor</td>\n",
       "      <td>White</td>\n",
       "      <td>Split</td>\n",
       "      <td>19</td>\n",
       "    </tr>\n",
       "    <tr>\n",
       "      <th>454</th>\n",
       "      <td>SAMSUNG 1 Ton 5 Star Split Inverter AC  - White</td>\n",
       "      <td>47499.0</td>\n",
       "      <td>4.2</td>\n",
       "      <td>Condenser Coil: AluminiumPower Consumption: 92...</td>\n",
       "      <td>SAMSUNG</td>\n",
       "      <td>1 Ton</td>\n",
       "      <td>920 W</td>\n",
       "      <td>Copper</td>\n",
       "      <td>49 dB</td>\n",
       "      <td>No</td>\n",
       "      <td>5 Star</td>\n",
       "      <td>5 Years on Condenser and 10 Years on Compressor</td>\n",
       "      <td>White</td>\n",
       "      <td>Split</td>\n",
       "      <td>19</td>\n",
       "    </tr>\n",
       "    <tr>\n",
       "      <th>455</th>\n",
       "      <td>LG 1 Ton 4 Star Split Dual Inverter AC  - White</td>\n",
       "      <td>34990.0</td>\n",
       "      <td>4.7</td>\n",
       "      <td>Condenser Coil: CopperPower Consumption: 649.3...</td>\n",
       "      <td>LG</td>\n",
       "      <td>1 Ton</td>\n",
       "      <td>649.33 W</td>\n",
       "      <td>Copper</td>\n",
       "      <td>21 dB</td>\n",
       "      <td>No</td>\n",
       "      <td>4 Star</td>\n",
       "      <td>10 Years on Compressor</td>\n",
       "      <td>White</td>\n",
       "      <td>Split</td>\n",
       "      <td>19</td>\n",
       "    </tr>\n",
       "  </tbody>\n",
       "</table>\n",
       "</div>"
      ],
      "text/plain": [
       "                                                Model    Price  Rating  \\\n",
       "451        LG 1 Ton 3 Star Split Inverter AC  - White  33499.0     4.4   \n",
       "452         Blue Star 1 Ton 3 Star Window AC  - White  23900.0     4.3   \n",
       "453  Voltas 1.5 Ton 3 Star Split Inverter AC  - White  31490.0     4.3   \n",
       "454   SAMSUNG 1 Ton 5 Star Split Inverter AC  - White  47499.0     4.2   \n",
       "455   LG 1 Ton 4 Star Split Dual Inverter AC  - White  34990.0     4.7   \n",
       "\n",
       "                                                 Specs      Brand  Capacity  \\\n",
       "451  Condenser Coil: CopperRefrigerant: R-410AWi-Fi...         LG     1 Ton   \n",
       "452  Power Consumption: 1115 WRefrigerant: R-22Ambi...  Blue Star     1 Ton   \n",
       "453  Condenser Coil: CopperPower Consumption: 1590 ...     Voltas   1.5 Ton   \n",
       "454  Condenser Coil: AluminiumPower Consumption: 92...    SAMSUNG     1 Ton   \n",
       "455  Condenser Coil: CopperPower Consumption: 649.3...         LG     1 Ton   \n",
       "\n",
       "    Power Consumption Condenser Coil Noise Level Wi-Fi Energy Saving  \\\n",
       "451            1050 W         Copper       46 dB    No        3 Star   \n",
       "452            1115 W         Copper       46 dB    No        3 Star   \n",
       "453            1590 W         Copper       52 dB    No        3 Star   \n",
       "454             920 W         Copper       49 dB    No        5 Star   \n",
       "455          649.33 W         Copper       21 dB    No        4 Star   \n",
       "\n",
       "                                 Compressor_Warranty   color    Type  Page  \n",
       "451                           10 Years on Compressor   White   Split    19  \n",
       "452                            5 Years on Compressor   White  Window    19  \n",
       "453                            5 Years on Compressor   White   Split    19  \n",
       "454  5 Years on Condenser and 10 Years on Compressor   White   Split    19  \n",
       "455                           10 Years on Compressor   White   Split    19  "
      ]
     },
     "execution_count": 1086,
     "metadata": {},
     "output_type": "execute_result"
    }
   ],
   "source": [
    "ac.tail()"
   ]
  },
  {
   "cell_type": "code",
   "execution_count": 1085,
   "metadata": {},
   "outputs": [],
   "source": [
    "ac[\"Page\"]=pagenum"
   ]
  },
  {
   "cell_type": "code",
   "execution_count": 1087,
   "metadata": {},
   "outputs": [
    {
     "name": "stdout",
     "output_type": "stream",
     "text": [
      "<class 'pandas.core.frame.DataFrame'>\n",
      "RangeIndex: 456 entries, 0 to 455\n",
      "Data columns (total 15 columns):\n",
      " #   Column               Non-Null Count  Dtype  \n",
      "---  ------               --------------  -----  \n",
      " 0   Model                456 non-null    object \n",
      " 1   Price                456 non-null    float64\n",
      " 2   Rating               456 non-null    float64\n",
      " 3   Specs                456 non-null    object \n",
      " 4   Brand                456 non-null    object \n",
      " 5   Capacity             456 non-null    object \n",
      " 6   Power Consumption    456 non-null    object \n",
      " 7   Condenser Coil       456 non-null    object \n",
      " 8   Noise Level          456 non-null    object \n",
      " 9   Wi-Fi                456 non-null    object \n",
      " 10  Energy Saving        456 non-null    object \n",
      " 11  Compressor_Warranty  456 non-null    object \n",
      " 12  color                456 non-null    object \n",
      " 13  Type                 456 non-null    object \n",
      " 14  Page                 456 non-null    int64  \n",
      "dtypes: float64(2), int64(1), object(12)\n",
      "memory usage: 53.6+ KB\n"
     ]
    }
   ],
   "source": [
    "ac.info()"
   ]
  },
  {
   "cell_type": "code",
   "execution_count": 1088,
   "metadata": {},
   "outputs": [
    {
     "data": {
      "text/plain": [
       "Model                  0\n",
       "Price                  0\n",
       "Rating                 0\n",
       "Specs                  0\n",
       "Brand                  0\n",
       "Capacity               0\n",
       "Power Consumption      0\n",
       "Condenser Coil         0\n",
       "Noise Level            0\n",
       "Wi-Fi                  0\n",
       "Energy Saving          0\n",
       "Compressor_Warranty    0\n",
       "color                  0\n",
       "Type                   0\n",
       "Page                   0\n",
       "dtype: int64"
      ]
     },
     "execution_count": 1088,
     "metadata": {},
     "output_type": "execute_result"
    }
   ],
   "source": [
    "ac.isnull().sum()"
   ]
  },
  {
   "cell_type": "code",
   "execution_count": null,
   "metadata": {},
   "outputs": [],
   "source": []
  },
  {
   "cell_type": "markdown",
   "metadata": {},
   "source": [
    "**Uni-Variate Analysis**"
   ]
  },
  {
   "cell_type": "code",
   "execution_count": 1055,
   "metadata": {},
   "outputs": [
    {
     "data": {
      "text/plain": [
       "<Figure size 720x360 with 0 Axes>"
      ]
     },
     "execution_count": 1055,
     "metadata": {},
     "output_type": "execute_result"
    },
    {
     "data": {
      "text/plain": [
       "<AxesSubplot:xlabel='Price', ylabel='Density'>"
      ]
     },
     "execution_count": 1055,
     "metadata": {},
     "output_type": "execute_result"
    },
    {
     "data": {
      "image/png": "[encoded data removed]",
      "text/plain": [
       "<Figure size 720x360 with 1 Axes>"
      ]
     },
     "metadata": {
      "needs_background": "light"
     },
     "output_type": "display_data"
    }
   ],
   "source": [
    "#Price distribution \n",
    "plt.figure(figsize=(10,5))\n",
    "sns.distplot(ac[\"Price\"])"
   ]
  },
  {
   "cell_type": "markdown",
   "metadata": {},
   "source": [
    "The Above Distplot shows The distribution of Price. The distplot shows the Histogram of the price value Range."
   ]
  },
  {
   "cell_type": "code",
   "execution_count": 1056,
   "metadata": {},
   "outputs": [
    {
     "data": {
      "text/plain": [
       "<Figure size 720x360 with 0 Axes>"
      ]
     },
     "execution_count": 1056,
     "metadata": {},
     "output_type": "execute_result"
    },
    {
     "data": {
      "text/plain": [
       "<AxesSubplot:ylabel='Price'>"
      ]
     },
     "execution_count": 1056,
     "metadata": {},
     "output_type": "execute_result"
    },
    {
     "data": {
      "image/png": "[encoded data removed]",
      "text/plain": [
       "<Figure size 720x360 with 1 Axes>"
      ]
     },
     "metadata": {
      "needs_background": "light"
     },
     "output_type": "display_data"
    }
   ],
   "source": [
    "#price range using scatter plot\n",
    "plt.figure(figsize=(10,5))\n",
    "sns.scatterplot(x=ac.index,y=\"Price\",data=ac)"
   ]
  },
  {
   "cell_type": "markdown",
   "metadata": {},
   "source": [
    "The Above Scatter-plot,we can see the scattered range of Price.\n",
    "From Scatter plot, we can infer that price ranges B/W (20-45)k and above 45k can be considered as Outliers.\n"
   ]
  },
  {
   "cell_type": "markdown",
   "metadata": {},
   "source": []
  },
  {
   "cell_type": "code",
   "execution_count": 1058,
   "metadata": {},
   "outputs": [
    {
     "data": {
      "text/plain": [
       "<Figure size 720x360 with 0 Axes>"
      ]
     },
     "execution_count": 1058,
     "metadata": {},
     "output_type": "execute_result"
    },
    {
     "data": {
      "text/plain": [
       "<AxesSubplot:ylabel='Rating'>"
      ]
     },
     "execution_count": 1058,
     "metadata": {},
     "output_type": "execute_result"
    },
    {
     "data": {
      "image/png": "[encoded data removed]",
      "text/plain": [
       "<Figure size 720x360 with 1 Axes>"
      ]
     },
     "metadata": {
      "needs_background": "light"
     },
     "output_type": "display_data"
    }
   ],
   "source": [
    "#Rating analysis\n",
    "plt.figure(figsize=(10,5))\n",
    "sns.scatterplot(x=ac.index,y=\"Rating\",data=ac)"
   ]
  },
  {
   "cell_type": "markdown",
   "metadata": {},
   "source": [
    "From The scatter-plot shows, The Scatterd data of the Ratings.\n",
    "- The Range of A/C ratings mostly lies b/w 3.8 to 4.4(Approx) Value."
   ]
  },
  {
   "cell_type": "code",
   "execution_count": null,
   "metadata": {},
   "outputs": [],
   "source": []
  },
  {
   "cell_type": "code",
   "execution_count": 1059,
   "metadata": {},
   "outputs": [
    {
     "data": {
      "text/plain": [
       "<Figure size 1080x432 with 0 Axes>"
      ]
     },
     "execution_count": 1059,
     "metadata": {},
     "output_type": "execute_result"
    },
    {
     "data": {
      "text/plain": [
       "<AxesSubplot:ylabel='Brand'>"
      ]
     },
     "execution_count": 1059,
     "metadata": {},
     "output_type": "execute_result"
    },
    {
     "data": {
      "image/png": "[encoded data removed]",
      "text/plain": [
       "<Figure size 1080x432 with 1 Axes>"
      ]
     },
     "metadata": {},
     "output_type": "display_data"
    }
   ],
   "source": [
    "#pie plot based on Brand count\n",
    "plt.figure(figsize=(15,6))\n",
    "ac[\"Brand\"].value_counts().plot(kind=\"pie\")\n"
   ]
  },
  {
   "cell_type": "markdown",
   "metadata": {},
   "source": [
    "The Pie-plot shows,The percentages of the Brands and their A\\c models available."
   ]
  },
  {
   "cell_type": "code",
   "execution_count": null,
   "metadata": {},
   "outputs": [],
   "source": []
  },
  {
   "cell_type": "code",
   "execution_count": 1060,
   "metadata": {},
   "outputs": [
    {
     "data": {
      "text/plain": [
       "<Figure size 1080x432 with 0 Axes>"
      ]
     },
     "execution_count": 1060,
     "metadata": {},
     "output_type": "execute_result"
    },
    {
     "data": {
      "text/plain": [
       "<AxesSubplot:xlabel='Brand', ylabel='count'>"
      ]
     },
     "execution_count": 1060,
     "metadata": {},
     "output_type": "execute_result"
    },
    {
     "data": {
      "text/plain": [
       "(array([ 0,  1,  2,  3,  4,  5,  6,  7,  8,  9, 10, 11, 12, 13, 14, 15, 16,\n",
       "        17, 18, 19, 20, 21, 22, 23, 24, 25, 26, 27, 28, 29]),\n",
       " [Text(0, 0, 'CARRIER'),\n",
       "  Text(1, 0, 'SAMSUNG'),\n",
       "  Text(2, 0, 'Midea'),\n",
       "  Text(3, 0, 'MarQ'),\n",
       "  Text(4, 0, 'Whirlpool'),\n",
       "  Text(5, 0, 'Blue Star'),\n",
       "  Text(6, 0, 'Voltas'),\n",
       "  Text(7, 0, 'Lloyd'),\n",
       "  Text(8, 0, 'Panasonic'),\n",
       "  Text(9, 0, 'IFB'),\n",
       "  Text(10, 0, 'LG'),\n",
       "  Text(11, 0, 'Daikin'),\n",
       "  Text(12, 0, 'Haier'),\n",
       "  Text(13, 0, 'Hitachi'),\n",
       "  Text(14, 0, 'ONIDA'),\n",
       "  Text(15, 0, 'Sansui'),\n",
       "  Text(16, 0, 'Godrej'),\n",
       "  Text(17, 0, 'IFFALCON'),\n",
       "  Text(18, 0, 'Hisense'),\n",
       "  Text(19, 0, 'MOTOROLA'),\n",
       "  Text(20, 0, 'Intex'),\n",
       "  Text(21, 0, 'TOSHIBA'),\n",
       "  Text(22, 0, 'Nokia'),\n",
       "  Text(23, 0, 'Micromax'),\n",
       "  Text(24, 0, 'Croma'),\n",
       "  Text(25, 0, 'LIVPURE'),\n",
       "  Text(26, 0, 'IMPEX'),\n",
       "  Text(27, 0, 'O-General'),\n",
       "  Text(28, 0, 'MITASHI'),\n",
       "  Text(29, 0, 'TCL')])"
      ]
     },
     "execution_count": 1060,
     "metadata": {},
     "output_type": "execute_result"
    },
    {
     "data": {
      "image/png": "[encoded data removed]",
      "text/plain": [
       "<Figure size 1080x432 with 1 Axes>"
      ]
     },
     "metadata": {
      "needs_background": "light"
     },
     "output_type": "display_data"
    }
   ],
   "source": [
    "#Countplot for Brand\n",
    "plt.figure(figsize=(15,6))\n",
    "sns.countplot(ac.Brand)\n",
    "plt.xticks(rotation=90)"
   ]
  },
  {
   "cell_type": "markdown",
   "metadata": {},
   "source": [
    "From above graph we can infer that count of Number of A/cs based on Brand.\n",
    "- The X-axis shows all the different Brands of A/C's that are available in the market.\n",
    "- The Y-axis shows the count of A/c's available by each brand."
   ]
  },
  {
   "cell_type": "code",
   "execution_count": null,
   "metadata": {},
   "outputs": [],
   "source": []
  },
  {
   "cell_type": "markdown",
   "metadata": {},
   "source": [
    "**Bi-Variate Analysis**"
   ]
  },
  {
   "cell_type": "code",
   "execution_count": 1061,
   "metadata": {},
   "outputs": [
    {
     "data": {
      "text/html": [
       "<div>\n",
       "<style scoped>\n",
       "    .dataframe tbody tr th:only-of-type {\n",
       "        vertical-align: middle;\n",
       "    }\n",
       "\n",
       "    .dataframe tbody tr th {\n",
       "        vertical-align: top;\n",
       "    }\n",
       "\n",
       "    .dataframe thead th {\n",
       "        text-align: right;\n",
       "    }\n",
       "</style>\n",
       "<table border=\"1\" class=\"dataframe\">\n",
       "  <thead>\n",
       "    <tr style=\"text-align: right;\">\n",
       "      <th></th>\n",
       "      <th>mean</th>\n",
       "      <th>max</th>\n",
       "      <th>min</th>\n",
       "    </tr>\n",
       "    <tr>\n",
       "      <th>Brand</th>\n",
       "      <th></th>\n",
       "      <th></th>\n",
       "      <th></th>\n",
       "    </tr>\n",
       "  </thead>\n",
       "  <tbody>\n",
       "    <tr>\n",
       "      <th>Blue Star</th>\n",
       "      <td>36226.771429</td>\n",
       "      <td>55500.0</td>\n",
       "      <td>17990.0</td>\n",
       "    </tr>\n",
       "    <tr>\n",
       "      <th>CARRIER</th>\n",
       "      <td>35827.062500</td>\n",
       "      <td>49990.0</td>\n",
       "      <td>22990.0</td>\n",
       "    </tr>\n",
       "    <tr>\n",
       "      <th>Croma</th>\n",
       "      <td>24740.000000</td>\n",
       "      <td>24990.0</td>\n",
       "      <td>24490.0</td>\n",
       "    </tr>\n",
       "    <tr>\n",
       "      <th>Daikin</th>\n",
       "      <td>37361.333333</td>\n",
       "      <td>62990.0</td>\n",
       "      <td>22990.0</td>\n",
       "    </tr>\n",
       "    <tr>\n",
       "      <th>Godrej</th>\n",
       "      <td>31782.294118</td>\n",
       "      <td>52990.0</td>\n",
       "      <td>21990.0</td>\n",
       "    </tr>\n",
       "    <tr>\n",
       "      <th>Haier</th>\n",
       "      <td>39589.750000</td>\n",
       "      <td>123499.0</td>\n",
       "      <td>21490.0</td>\n",
       "    </tr>\n",
       "    <tr>\n",
       "      <th>Hisense</th>\n",
       "      <td>31115.000000</td>\n",
       "      <td>33990.0</td>\n",
       "      <td>26990.0</td>\n",
       "    </tr>\n",
       "    <tr>\n",
       "      <th>Hitachi</th>\n",
       "      <td>34070.388889</td>\n",
       "      <td>47499.0</td>\n",
       "      <td>24090.0</td>\n",
       "    </tr>\n",
       "    <tr>\n",
       "      <th>IFB</th>\n",
       "      <td>40691.285714</td>\n",
       "      <td>49990.0</td>\n",
       "      <td>31990.0</td>\n",
       "    </tr>\n",
       "    <tr>\n",
       "      <th>IFFALCON</th>\n",
       "      <td>31491.500000</td>\n",
       "      <td>38990.0</td>\n",
       "      <td>23990.0</td>\n",
       "    </tr>\n",
       "    <tr>\n",
       "      <th>IMPEX</th>\n",
       "      <td>24589.000000</td>\n",
       "      <td>24589.0</td>\n",
       "      <td>24589.0</td>\n",
       "    </tr>\n",
       "    <tr>\n",
       "      <th>Intex</th>\n",
       "      <td>22490.000000</td>\n",
       "      <td>22490.0</td>\n",
       "      <td>22490.0</td>\n",
       "    </tr>\n",
       "    <tr>\n",
       "      <th>LG</th>\n",
       "      <td>39597.551020</td>\n",
       "      <td>56990.0</td>\n",
       "      <td>28990.0</td>\n",
       "    </tr>\n",
       "    <tr>\n",
       "      <th>LIVPURE</th>\n",
       "      <td>38990.000000</td>\n",
       "      <td>38990.0</td>\n",
       "      <td>38990.0</td>\n",
       "    </tr>\n",
       "    <tr>\n",
       "      <th>Lloyd</th>\n",
       "      <td>35278.000000</td>\n",
       "      <td>73990.0</td>\n",
       "      <td>19490.0</td>\n",
       "    </tr>\n",
       "    <tr>\n",
       "      <th>MITASHI</th>\n",
       "      <td>40499.000000</td>\n",
       "      <td>40499.0</td>\n",
       "      <td>40499.0</td>\n",
       "    </tr>\n",
       "    <tr>\n",
       "      <th>MOTOROLA</th>\n",
       "      <td>37490.000000</td>\n",
       "      <td>42490.0</td>\n",
       "      <td>28490.0</td>\n",
       "    </tr>\n",
       "    <tr>\n",
       "      <th>MarQ</th>\n",
       "      <td>28824.333333</td>\n",
       "      <td>59999.0</td>\n",
       "      <td>19990.0</td>\n",
       "    </tr>\n",
       "    <tr>\n",
       "      <th>Micromax</th>\n",
       "      <td>33490.000000</td>\n",
       "      <td>33490.0</td>\n",
       "      <td>33490.0</td>\n",
       "    </tr>\n",
       "    <tr>\n",
       "      <th>Midea</th>\n",
       "      <td>29775.714286</td>\n",
       "      <td>39490.0</td>\n",
       "      <td>21990.0</td>\n",
       "    </tr>\n",
       "    <tr>\n",
       "      <th>Nokia</th>\n",
       "      <td>37990.000000</td>\n",
       "      <td>37990.0</td>\n",
       "      <td>37990.0</td>\n",
       "    </tr>\n",
       "    <tr>\n",
       "      <th>O-General</th>\n",
       "      <td>45025.000000</td>\n",
       "      <td>53000.0</td>\n",
       "      <td>37050.0</td>\n",
       "    </tr>\n",
       "    <tr>\n",
       "      <th>ONIDA</th>\n",
       "      <td>30497.700000</td>\n",
       "      <td>37990.0</td>\n",
       "      <td>24990.0</td>\n",
       "    </tr>\n",
       "    <tr>\n",
       "      <th>Panasonic</th>\n",
       "      <td>39688.480000</td>\n",
       "      <td>66999.0</td>\n",
       "      <td>22990.0</td>\n",
       "    </tr>\n",
       "    <tr>\n",
       "      <th>SAMSUNG</th>\n",
       "      <td>38051.360000</td>\n",
       "      <td>62900.0</td>\n",
       "      <td>26990.0</td>\n",
       "    </tr>\n",
       "    <tr>\n",
       "      <th>Sansui</th>\n",
       "      <td>27574.833333</td>\n",
       "      <td>34490.0</td>\n",
       "      <td>22499.0</td>\n",
       "    </tr>\n",
       "    <tr>\n",
       "      <th>TCL</th>\n",
       "      <td>37224.000000</td>\n",
       "      <td>37599.0</td>\n",
       "      <td>36849.0</td>\n",
       "    </tr>\n",
       "    <tr>\n",
       "      <th>TOSHIBA</th>\n",
       "      <td>45619.500000</td>\n",
       "      <td>59499.0</td>\n",
       "      <td>32990.0</td>\n",
       "    </tr>\n",
       "    <tr>\n",
       "      <th>Voltas</th>\n",
       "      <td>31207.690476</td>\n",
       "      <td>48900.0</td>\n",
       "      <td>19490.0</td>\n",
       "    </tr>\n",
       "    <tr>\n",
       "      <th>Whirlpool</th>\n",
       "      <td>33364.681818</td>\n",
       "      <td>47999.0</td>\n",
       "      <td>23990.0</td>\n",
       "    </tr>\n",
       "  </tbody>\n",
       "</table>\n",
       "</div>"
      ],
      "text/plain": [
       "                   mean       max      min\n",
       "Brand                                     \n",
       "Blue Star  36226.771429   55500.0  17990.0\n",
       "CARRIER    35827.062500   49990.0  22990.0\n",
       "Croma      24740.000000   24990.0  24490.0\n",
       "Daikin     37361.333333   62990.0  22990.0\n",
       "Godrej     31782.294118   52990.0  21990.0\n",
       "Haier      39589.750000  123499.0  21490.0\n",
       "Hisense    31115.000000   33990.0  26990.0\n",
       "Hitachi    34070.388889   47499.0  24090.0\n",
       "IFB        40691.285714   49990.0  31990.0\n",
       "IFFALCON   31491.500000   38990.0  23990.0\n",
       "IMPEX      24589.000000   24589.0  24589.0\n",
       "Intex      22490.000000   22490.0  22490.0\n",
       "LG         39597.551020   56990.0  28990.0\n",
       "LIVPURE    38990.000000   38990.0  38990.0\n",
       "Lloyd      35278.000000   73990.0  19490.0\n",
       "MITASHI    40499.000000   40499.0  40499.0\n",
       "MOTOROLA   37490.000000   42490.0  28490.0\n",
       "MarQ       28824.333333   59999.0  19990.0\n",
       "Micromax   33490.000000   33490.0  33490.0\n",
       "Midea      29775.714286   39490.0  21990.0\n",
       "Nokia      37990.000000   37990.0  37990.0\n",
       "O-General  45025.000000   53000.0  37050.0\n",
       "ONIDA      30497.700000   37990.0  24990.0\n",
       "Panasonic  39688.480000   66999.0  22990.0\n",
       "SAMSUNG    38051.360000   62900.0  26990.0\n",
       "Sansui     27574.833333   34490.0  22499.0\n",
       "TCL        37224.000000   37599.0  36849.0\n",
       "TOSHIBA    45619.500000   59499.0  32990.0\n",
       "Voltas     31207.690476   48900.0  19490.0\n",
       "Whirlpool  33364.681818   47999.0  23990.0"
      ]
     },
     "execution_count": 1061,
     "metadata": {},
     "output_type": "execute_result"
    }
   ],
   "source": [
    "#Bi-varate Analysis based on Brand and price\n",
    "ac.groupby([\"Brand\"])[\"Price\"].agg([\"mean\",\"max\",\"min\"])"
   ]
  },
  {
   "cell_type": "code",
   "execution_count": 816,
   "metadata": {},
   "outputs": [
    {
     "data": {
      "text/plain": [
       "<Figure size 1080x432 with 0 Axes>"
      ]
     },
     "execution_count": 816,
     "metadata": {},
     "output_type": "execute_result"
    },
    {
     "data": {
      "text/plain": [
       "<AxesSubplot:xlabel='Brand', ylabel='Price'>"
      ]
     },
     "execution_count": 816,
     "metadata": {},
     "output_type": "execute_result"
    },
    {
     "data": {
      "text/plain": [
       "(array([ 0,  1,  2,  3,  4,  5,  6,  7,  8,  9, 10, 11, 12, 13, 14, 15, 16,\n",
       "        17, 18, 19, 20, 21, 22, 23, 24, 25, 26, 27, 28]),\n",
       " [Text(0, 0, 'Lloyd'),\n",
       "  Text(1, 0, 'CARRIER'),\n",
       "  Text(2, 0, 'SAMSUNG'),\n",
       "  Text(3, 0, 'Midea'),\n",
       "  Text(4, 0, 'Whirlpool'),\n",
       "  Text(5, 0, 'Voltas'),\n",
       "  Text(6, 0, 'Blue Star'),\n",
       "  Text(7, 0, 'MarQ'),\n",
       "  Text(8, 0, 'Panasonic'),\n",
       "  Text(9, 0, 'IFB'),\n",
       "  Text(10, 0, 'Haier'),\n",
       "  Text(11, 0, 'Hitachi'),\n",
       "  Text(12, 0, 'LG'),\n",
       "  Text(13, 0, 'Daikin'),\n",
       "  Text(14, 0, 'ONIDA'),\n",
       "  Text(15, 0, 'Godrej'),\n",
       "  Text(16, 0, 'CANDY'),\n",
       "  Text(17, 0, 'Sansui'),\n",
       "  Text(18, 0, 'IFFALCON'),\n",
       "  Text(19, 0, 'Hisense'),\n",
       "  Text(20, 0, 'MOTOROLA'),\n",
       "  Text(21, 0, 'Intex'),\n",
       "  Text(22, 0, 'TOSHIBA'),\n",
       "  Text(23, 0, 'Nokia'),\n",
       "  Text(24, 0, 'Micromax'),\n",
       "  Text(25, 0, 'TCL'),\n",
       "  Text(26, 0, 'Croma'),\n",
       "  Text(27, 0, 'IMPEX'),\n",
       "  Text(28, 0, 'MITASHI')])"
      ]
     },
     "execution_count": 816,
     "metadata": {},
     "output_type": "execute_result"
    },
    {
     "data": {
      "image/png": "[encoded data removed]",
      "text/plain": [
       "<Figure size 1080x432 with 1 Axes>"
      ]
     },
     "metadata": {
      "needs_background": "light"
     },
     "output_type": "display_data"
    }
   ],
   "source": [
    "#Avg price based on Brand\n",
    "plt.figure(figsize=(15,6))\n",
    "sns.boxplot(x=\"Brand\", y=\"Price\", data=ac)\n",
    "plt.xticks(rotation=90)"
   ]
  },
  {
   "cell_type": "markdown",
   "metadata": {},
   "source": [
    "From Above boxplot, we can infer that The price range of each brand lies b/w.\n",
    "- The x-axis shows the prices of A/c's.\n",
    "- The Y-axis shows the Brand Names of A/c's.\n",
    "- The boc contains mainly "
   ]
  },
  {
   "cell_type": "code",
   "execution_count": null,
   "metadata": {},
   "outputs": [],
   "source": []
  },
  {
   "cell_type": "code",
   "execution_count": 1062,
   "metadata": {},
   "outputs": [
    {
     "data": {
      "text/plain": [
       "<Figure size 1080x360 with 0 Axes>"
      ]
     },
     "execution_count": 1062,
     "metadata": {},
     "output_type": "execute_result"
    },
    {
     "data": {
      "text/plain": [
       "<AxesSubplot:xlabel='Brand', ylabel='Price'>"
      ]
     },
     "execution_count": 1062,
     "metadata": {},
     "output_type": "execute_result"
    },
    {
     "data": {
      "text/plain": [
       "(array([ 0,  1,  2,  3,  4,  5,  6,  7,  8,  9, 10, 11, 12, 13, 14, 15, 16,\n",
       "        17, 18, 19, 20, 21, 22, 23, 24, 25, 26, 27, 28, 29]),\n",
       " [Text(0, 0, 'CARRIER'),\n",
       "  Text(1, 0, 'SAMSUNG'),\n",
       "  Text(2, 0, 'Midea'),\n",
       "  Text(3, 0, 'MarQ'),\n",
       "  Text(4, 0, 'Whirlpool'),\n",
       "  Text(5, 0, 'Blue Star'),\n",
       "  Text(6, 0, 'Voltas'),\n",
       "  Text(7, 0, 'Lloyd'),\n",
       "  Text(8, 0, 'Panasonic'),\n",
       "  Text(9, 0, 'IFB'),\n",
       "  Text(10, 0, 'LG'),\n",
       "  Text(11, 0, 'Daikin'),\n",
       "  Text(12, 0, 'Haier'),\n",
       "  Text(13, 0, 'Hitachi'),\n",
       "  Text(14, 0, 'ONIDA'),\n",
       "  Text(15, 0, 'Sansui'),\n",
       "  Text(16, 0, 'Godrej'),\n",
       "  Text(17, 0, 'IFFALCON'),\n",
       "  Text(18, 0, 'Hisense'),\n",
       "  Text(19, 0, 'MOTOROLA'),\n",
       "  Text(20, 0, 'Intex'),\n",
       "  Text(21, 0, 'TOSHIBA'),\n",
       "  Text(22, 0, 'Nokia'),\n",
       "  Text(23, 0, 'Micromax'),\n",
       "  Text(24, 0, 'Croma'),\n",
       "  Text(25, 0, 'LIVPURE'),\n",
       "  Text(26, 0, 'IMPEX'),\n",
       "  Text(27, 0, 'O-General'),\n",
       "  Text(28, 0, 'MITASHI'),\n",
       "  Text(29, 0, 'TCL')])"
      ]
     },
     "execution_count": 1062,
     "metadata": {},
     "output_type": "execute_result"
    },
    {
     "data": {
      "image/png": "[encoded data removed]",
      "text/plain": [
       "<Figure size 1080x360 with 1 Axes>"
      ]
     },
     "metadata": {
      "needs_background": "light"
     },
     "output_type": "display_data"
    }
   ],
   "source": [
    "#Avg of price based on Brand\n",
    "plt.figure(figsize=(15,5))\n",
    "sns.barplot(x=\"Brand\", y=\"Price\",ci=None,data=ac)\n",
    "plt.xticks(rotation=90)"
   ]
  },
  {
   "cell_type": "markdown",
   "metadata": {},
   "source": [
    "From above bar-graph,we can infer that the Average prices of A/Cs based on the Brand.\n",
    "- The Tallest bar among in the graph shows that the Brand's Avg value is high.\n",
    "- The lowest bar among in the graph defines the avg price of that brand is less such as Intex in this case."
   ]
  },
  {
   "cell_type": "code",
   "execution_count": null,
   "metadata": {},
   "outputs": [],
   "source": []
  },
  {
   "cell_type": "code",
   "execution_count": 1063,
   "metadata": {},
   "outputs": [
    {
     "data": {
      "text/plain": [
       "<Figure size 1080x432 with 0 Axes>"
      ]
     },
     "execution_count": 1063,
     "metadata": {},
     "output_type": "execute_result"
    },
    {
     "data": {
      "text/plain": [
       "<AxesSubplot:xlabel='Rating', ylabel='Price'>"
      ]
     },
     "execution_count": 1063,
     "metadata": {},
     "output_type": "execute_result"
    },
    {
     "data": {
      "image/png": "[encoded data removed]",
      "text/plain": [
       "<Figure size 1080x432 with 1 Axes>"
      ]
     },
     "metadata": {
      "needs_background": "light"
     },
     "output_type": "display_data"
    }
   ],
   "source": [
    "#based on Ratings and prices\n",
    "plt.figure(figsize=(15,6))\n",
    "sns.scatterplot(x=\"Rating\", y=\"Price\", data=ac)"
   ]
  },
  {
   "cell_type": "markdown",
   "metadata": {},
   "source": [
    "The above scatter-plot is to describe the Ratings and prices of A\\c's based on the Ratings.\n",
    "- Most of the A\\c's Ratings are 3.8 and above till 4.5\n"
   ]
  },
  {
   "cell_type": "code",
   "execution_count": null,
   "metadata": {},
   "outputs": [],
   "source": []
  },
  {
   "cell_type": "code",
   "execution_count": 1064,
   "metadata": {},
   "outputs": [
    {
     "data": {
      "text/plain": [
       "<Figure size 1080x432 with 0 Axes>"
      ]
     },
     "execution_count": 1064,
     "metadata": {},
     "output_type": "execute_result"
    },
    {
     "data": {
      "text/plain": [
       "<AxesSubplot:xlabel='Type', ylabel='Price'>"
      ]
     },
     "execution_count": 1064,
     "metadata": {},
     "output_type": "execute_result"
    },
    {
     "data": {
      "image/png": "[encoded data removed]",
      "text/plain": [
       "<Figure size 1080x432 with 1 Axes>"
      ]
     },
     "metadata": {
      "needs_background": "light"
     },
     "output_type": "display_data"
    }
   ],
   "source": [
    "plt.figure(figsize=(15,6))\n",
    "sns.boxplot(x=\"Type\",y=\"Price\", data=ac)"
   ]
  },
  {
   "cell_type": "markdown",
   "metadata": {},
   "source": [
    "From the above boxplot, We can infer that split a/c's  more expensive than Window A/c's and Split a/c's price Ranges from 20k to nearly 55k, Above 55k can be considered as outliers and window A/c's cost b/w 20k-35k, Above 35k are the outliers."
   ]
  },
  {
   "cell_type": "code",
   "execution_count": null,
   "metadata": {},
   "outputs": [],
   "source": []
  },
  {
   "cell_type": "code",
   "execution_count": 1065,
   "metadata": {},
   "outputs": [
    {
     "data": {
      "text/plain": [
       "<Figure size 1080x432 with 0 Axes>"
      ]
     },
     "execution_count": 1065,
     "metadata": {},
     "output_type": "execute_result"
    },
    {
     "data": {
      "text/plain": [
       "<AxesSubplot:xlabel='Type', ylabel='Price'>"
      ]
     },
     "execution_count": 1065,
     "metadata": {},
     "output_type": "execute_result"
    },
    {
     "data": {
      "image/png": "[encoded data removed]",
      "text/plain": [
       "<Figure size 1080x432 with 1 Axes>"
      ]
     },
     "metadata": {
      "needs_background": "light"
     },
     "output_type": "display_data"
    }
   ],
   "source": [
    "#Bi-variate Analysis on Price based on Type\n",
    "plt.figure(figsize=(15,6))\n",
    "sns.barplot(x=\"Type\",y=\"Price\", data=ac, ci=None)"
   ]
  },
  {
   "cell_type": "code",
   "execution_count": null,
   "metadata": {},
   "outputs": [],
   "source": []
  },
  {
   "cell_type": "code",
   "execution_count": 1066,
   "metadata": {},
   "outputs": [
    {
     "data": {
      "text/html": [
       "<div>\n",
       "<style scoped>\n",
       "    .dataframe tbody tr th:only-of-type {\n",
       "        vertical-align: middle;\n",
       "    }\n",
       "\n",
       "    .dataframe tbody tr th {\n",
       "        vertical-align: top;\n",
       "    }\n",
       "\n",
       "    .dataframe thead th {\n",
       "        text-align: right;\n",
       "    }\n",
       "</style>\n",
       "<table border=\"1\" class=\"dataframe\">\n",
       "  <thead>\n",
       "    <tr style=\"text-align: right;\">\n",
       "      <th></th>\n",
       "      <th>mean</th>\n",
       "    </tr>\n",
       "    <tr>\n",
       "      <th>Energy Saving</th>\n",
       "      <th></th>\n",
       "    </tr>\n",
       "  </thead>\n",
       "  <tbody>\n",
       "    <tr>\n",
       "      <th>2 Star</th>\n",
       "      <td>25662.666667</td>\n",
       "    </tr>\n",
       "    <tr>\n",
       "      <th>3 Star</th>\n",
       "      <td>33065.035211</td>\n",
       "    </tr>\n",
       "    <tr>\n",
       "      <th>4 Star</th>\n",
       "      <td>39623.894737</td>\n",
       "    </tr>\n",
       "    <tr>\n",
       "      <th>5 Star</th>\n",
       "      <td>38599.873333</td>\n",
       "    </tr>\n",
       "  </tbody>\n",
       "</table>\n",
       "</div>"
      ],
      "text/plain": [
       "                       mean\n",
       "Energy Saving              \n",
       " 2 Star        25662.666667\n",
       " 3 Star        33065.035211\n",
       " 4 Star        39623.894737\n",
       "5 Star         38599.873333"
      ]
     },
     "execution_count": 1066,
     "metadata": {},
     "output_type": "execute_result"
    }
   ],
   "source": [
    "#Bi-variate Analysis on Price based on Energy Saving\n",
    "ac.groupby([\"Energy Saving\"])[\"Price\"].agg([\"mean\"])"
   ]
  },
  {
   "cell_type": "code",
   "execution_count": 1067,
   "metadata": {},
   "outputs": [
    {
     "data": {
      "text/plain": [
       "<AxesSubplot:xlabel='Energy Saving', ylabel='Price'>"
      ]
     },
     "execution_count": 1067,
     "metadata": {},
     "output_type": "execute_result"
    },
    {
     "data": {
      "image/png": "[encoded data removed]",
      "text/plain": [
       "<Figure size 432x288 with 1 Axes>"
      ]
     },
     "metadata": {
      "needs_background": "light"
     },
     "output_type": "display_data"
    }
   ],
   "source": [
    "#Bar plot for Energy saving \n",
    "sns.barplot(ac[\"Energy Saving\"], ac[\"Price\"], ci=None)"
   ]
  },
  {
   "cell_type": "markdown",
   "metadata": {},
   "source": [
    "From above bar-graph,The Energy-savings Ranges from 2star to 5 star.\n",
    "- The Blue bar refers to 5-Star.\n",
    "- The Green bar refers to 4-Star.\n",
    "- The Orange bar refers to 3-Star.\n",
    "- The red bar refers to 2- Star.\n",
    "- The x-axis shows the Energy Saving and the Y-axis shows the price range."
   ]
  },
  {
   "cell_type": "code",
   "execution_count": null,
   "metadata": {},
   "outputs": [],
   "source": []
  },
  {
   "cell_type": "code",
   "execution_count": 1068,
   "metadata": {},
   "outputs": [
    {
     "data": {
      "text/plain": [
       "<Figure size 1080x432 with 0 Axes>"
      ]
     },
     "execution_count": 1068,
     "metadata": {},
     "output_type": "execute_result"
    },
    {
     "data": {
      "text/plain": [
       "<AxesSubplot:xlabel='Noise Level', ylabel='Price'>"
      ]
     },
     "execution_count": 1068,
     "metadata": {},
     "output_type": "execute_result"
    },
    {
     "data": {
      "text/plain": [
       "(array([ 0,  1,  2,  3,  4,  5,  6,  7,  8,  9, 10, 11, 12, 13, 14, 15, 16,\n",
       "        17, 18, 19, 20, 21, 22, 23, 24, 25, 26, 27, 28, 29, 30, 31, 32, 33,\n",
       "        34, 35, 36, 37, 38, 39, 40, 41, 42, 43, 44, 45, 46, 47, 48, 49, 50,\n",
       "        51, 52, 53]),\n",
       " [Text(0, 0, ' 32 dB'),\n",
       "  Text(1, 0, ' 38 dB'),\n",
       "  Text(2, 0, ' 52 dB'),\n",
       "  Text(3, 0, ' 39 dB'),\n",
       "  Text(4, 0, ' 32.5 db'),\n",
       "  Text(5, 0, ' 33 dB'),\n",
       "  Text(6, 0, ' 43 dB'),\n",
       "  Text(7, 0, ' 40 dB'),\n",
       "  Text(8, 0, ' 54 dB'),\n",
       "  Text(9, 0, ' 42 dB'),\n",
       "  Text(10, 0, ' 36 dB'),\n",
       "  Text(11, 0, ' 46 dB'),\n",
       "  Text(12, 0, ' 44 dB'),\n",
       "  Text(13, 0, ' 58 dB'),\n",
       "  Text(14, 0, ' 45 dB'),\n",
       "  Text(15, 0, ' 47 dB'),\n",
       "  Text(16, 0, ' 53 dB'),\n",
       "  Text(17, 0, ' 62.5 dB'),\n",
       "  Text(18, 0, ' 35 db'),\n",
       "  Text(19, 0, ' 26 dB'),\n",
       "  Text(20, 0, ' 34 dB'),\n",
       "  Text(21, 0, ' 35 dB'),\n",
       "  Text(22, 0, ' 29 dB'),\n",
       "  Text(23, 0, ' 38 db'),\n",
       "  Text(24, 0, ' 31 dB'),\n",
       "  Text(25, 0, ' 21 dB'),\n",
       "  Text(26, 0, ' 45 db'),\n",
       "  Text(27, 0, ' 37 dB'),\n",
       "  Text(28, 0, ' 60 dB'),\n",
       "  Text(29, 0, ' 44 db'),\n",
       "  Text(30, 0, ' 63 dB'),\n",
       "  Text(31, 0, ' 48 dB'),\n",
       "  Text(32, 0, ' 62 dB'),\n",
       "  Text(33, 0, ' 50 dB'),\n",
       "  Text(34, 0, ' 41 dB'),\n",
       "  Text(35, 0, ' 29.5 dB'),\n",
       "  Text(36, 0, ' 34.5 dB'),\n",
       "  Text(37, 0, ' 55 dB'),\n",
       "  Text(38, 0, ' 30 db'),\n",
       "  Text(39, 0, ' 51 dB'),\n",
       "  Text(40, 0, ' 49 dB'),\n",
       "  Text(41, 0, ' 56 dB'),\n",
       "  Text(42, 0, ' 29.5 db'),\n",
       "  Text(43, 0, ' 47 db'),\n",
       "  Text(44, 0, ' 43 db'),\n",
       "  Text(45, 0, ' 37 db'),\n",
       "  Text(46, 0, ' 30 dB'),\n",
       "  Text(47, 0, ' 28 dB'),\n",
       "  Text(48, 0, ' 59 dB'),\n",
       "  Text(49, 0, ' 30.5 dB'),\n",
       "  Text(50, 0, ' 34 db'),\n",
       "  Text(51, 0, ' 41.5 dB'),\n",
       "  Text(52, 0, ' 57 dB'),\n",
       "  Text(53, 0, ' 48 db')])"
      ]
     },
     "execution_count": 1068,
     "metadata": {},
     "output_type": "execute_result"
    },
    {
     "data": {
      "image/png": "[encoded data removed]",
      "text/plain": [
       "<Figure size 1080x432 with 1 Axes>"
      ]
     },
     "metadata": {
      "needs_background": "light"
     },
     "output_type": "display_data"
    }
   ],
   "source": [
    "plt.figure(figsize=(15,6))\n",
    "sns.barplot(x=\"Noise Level\", y=\"Price\",ci=None,data=ac)\n",
    "plt.xticks(rotation=90)"
   ]
  },
  {
   "cell_type": "markdown",
   "metadata": {},
   "source": [
    "- The above bar-graph shows the information about Price based on the Noise-level.\n",
    "\n"
   ]
  },
  {
   "cell_type": "code",
   "execution_count": null,
   "metadata": {},
   "outputs": [],
   "source": []
  },
  {
   "cell_type": "markdown",
   "metadata": {},
   "source": [
    "### Multi-Variate Analysis"
   ]
  },
  {
   "cell_type": "code",
   "execution_count": 1069,
   "metadata": {},
   "outputs": [
    {
     "data": {
      "text/html": [
       "<div>\n",
       "<style scoped>\n",
       "    .dataframe tbody tr th:only-of-type {\n",
       "        vertical-align: middle;\n",
       "    }\n",
       "\n",
       "    .dataframe tbody tr th {\n",
       "        vertical-align: top;\n",
       "    }\n",
       "\n",
       "    .dataframe thead th {\n",
       "        text-align: right;\n",
       "    }\n",
       "</style>\n",
       "<table border=\"1\" class=\"dataframe\">\n",
       "  <thead>\n",
       "    <tr style=\"text-align: right;\">\n",
       "      <th></th>\n",
       "      <th></th>\n",
       "      <th>mean</th>\n",
       "    </tr>\n",
       "    <tr>\n",
       "      <th>Brand</th>\n",
       "      <th>Wi-Fi</th>\n",
       "      <th></th>\n",
       "    </tr>\n",
       "  </thead>\n",
       "  <tbody>\n",
       "    <tr>\n",
       "      <th>Blue Star</th>\n",
       "      <th>No</th>\n",
       "      <td>36226.771429</td>\n",
       "    </tr>\n",
       "    <tr>\n",
       "      <th>CARRIER</th>\n",
       "      <th>No</th>\n",
       "      <td>35827.062500</td>\n",
       "    </tr>\n",
       "    <tr>\n",
       "      <th>Croma</th>\n",
       "      <th>No</th>\n",
       "      <td>24740.000000</td>\n",
       "    </tr>\n",
       "    <tr>\n",
       "      <th>Daikin</th>\n",
       "      <th>No</th>\n",
       "      <td>37361.333333</td>\n",
       "    </tr>\n",
       "    <tr>\n",
       "      <th>Godrej</th>\n",
       "      <th>No</th>\n",
       "      <td>31782.294118</td>\n",
       "    </tr>\n",
       "    <tr>\n",
       "      <th rowspan=\"2\" valign=\"top\">Haier</th>\n",
       "      <th>No</th>\n",
       "      <td>27602.714286</td>\n",
       "    </tr>\n",
       "    <tr>\n",
       "      <th>Yes</th>\n",
       "      <td>123499.000000</td>\n",
       "    </tr>\n",
       "    <tr>\n",
       "      <th>Hisense</th>\n",
       "      <th>Yes</th>\n",
       "      <td>31115.000000</td>\n",
       "    </tr>\n",
       "    <tr>\n",
       "      <th>Hitachi</th>\n",
       "      <th>No</th>\n",
       "      <td>34070.388889</td>\n",
       "    </tr>\n",
       "    <tr>\n",
       "      <th>IFB</th>\n",
       "      <th>No</th>\n",
       "      <td>40691.285714</td>\n",
       "    </tr>\n",
       "    <tr>\n",
       "      <th rowspan=\"2\" valign=\"top\">IFFALCON</th>\n",
       "      <th>No</th>\n",
       "      <td>30994.500000</td>\n",
       "    </tr>\n",
       "    <tr>\n",
       "      <th>Yes</th>\n",
       "      <td>31740.000000</td>\n",
       "    </tr>\n",
       "    <tr>\n",
       "      <th>IMPEX</th>\n",
       "      <th>No</th>\n",
       "      <td>24589.000000</td>\n",
       "    </tr>\n",
       "    <tr>\n",
       "      <th>Intex</th>\n",
       "      <th>No</th>\n",
       "      <td>22490.000000</td>\n",
       "    </tr>\n",
       "    <tr>\n",
       "      <th rowspan=\"2\" valign=\"top\">LG</th>\n",
       "      <th>No</th>\n",
       "      <td>38938.809524</td>\n",
       "    </tr>\n",
       "    <tr>\n",
       "      <th>Yes</th>\n",
       "      <td>43550.000000</td>\n",
       "    </tr>\n",
       "    <tr>\n",
       "      <th>LIVPURE</th>\n",
       "      <th>Yes</th>\n",
       "      <td>38990.000000</td>\n",
       "    </tr>\n",
       "    <tr>\n",
       "      <th rowspan=\"2\" valign=\"top\">Lloyd</th>\n",
       "      <th>No</th>\n",
       "      <td>31366.615385</td>\n",
       "    </tr>\n",
       "    <tr>\n",
       "      <th>Yes</th>\n",
       "      <td>47990.000000</td>\n",
       "    </tr>\n",
       "    <tr>\n",
       "      <th>MITASHI</th>\n",
       "      <th>No</th>\n",
       "      <td>40499.000000</td>\n",
       "    </tr>\n",
       "    <tr>\n",
       "      <th rowspan=\"2\" valign=\"top\">MOTOROLA</th>\n",
       "      <th>No</th>\n",
       "      <td>28490.000000</td>\n",
       "    </tr>\n",
       "    <tr>\n",
       "      <th>Yes</th>\n",
       "      <td>41990.000000</td>\n",
       "    </tr>\n",
       "    <tr>\n",
       "      <th>MarQ</th>\n",
       "      <th>No</th>\n",
       "      <td>28824.333333</td>\n",
       "    </tr>\n",
       "    <tr>\n",
       "      <th>Micromax</th>\n",
       "      <th>No</th>\n",
       "      <td>33490.000000</td>\n",
       "    </tr>\n",
       "    <tr>\n",
       "      <th>Midea</th>\n",
       "      <th>No</th>\n",
       "      <td>29775.714286</td>\n",
       "    </tr>\n",
       "    <tr>\n",
       "      <th>Nokia</th>\n",
       "      <th>Yes</th>\n",
       "      <td>37990.000000</td>\n",
       "    </tr>\n",
       "    <tr>\n",
       "      <th>O-General</th>\n",
       "      <th>No</th>\n",
       "      <td>45025.000000</td>\n",
       "    </tr>\n",
       "    <tr>\n",
       "      <th rowspan=\"2\" valign=\"top\">ONIDA</th>\n",
       "      <th>No</th>\n",
       "      <td>30374.625000</td>\n",
       "    </tr>\n",
       "    <tr>\n",
       "      <th>Yes</th>\n",
       "      <td>30990.000000</td>\n",
       "    </tr>\n",
       "    <tr>\n",
       "      <th rowspan=\"2\" valign=\"top\">Panasonic</th>\n",
       "      <th>No</th>\n",
       "      <td>40360.200000</td>\n",
       "    </tr>\n",
       "    <tr>\n",
       "      <th>Yes</th>\n",
       "      <td>38680.900000</td>\n",
       "    </tr>\n",
       "    <tr>\n",
       "      <th>SAMSUNG</th>\n",
       "      <th>No</th>\n",
       "      <td>38051.360000</td>\n",
       "    </tr>\n",
       "    <tr>\n",
       "      <th rowspan=\"2\" valign=\"top\">Sansui</th>\n",
       "      <th>No</th>\n",
       "      <td>26191.800000</td>\n",
       "    </tr>\n",
       "    <tr>\n",
       "      <th>Yes</th>\n",
       "      <td>34490.000000</td>\n",
       "    </tr>\n",
       "    <tr>\n",
       "      <th>TCL</th>\n",
       "      <th>No</th>\n",
       "      <td>37224.000000</td>\n",
       "    </tr>\n",
       "    <tr>\n",
       "      <th>TOSHIBA</th>\n",
       "      <th>No</th>\n",
       "      <td>45619.500000</td>\n",
       "    </tr>\n",
       "    <tr>\n",
       "      <th>Voltas</th>\n",
       "      <th>No</th>\n",
       "      <td>31207.690476</td>\n",
       "    </tr>\n",
       "    <tr>\n",
       "      <th>Whirlpool</th>\n",
       "      <th>No</th>\n",
       "      <td>33364.681818</td>\n",
       "    </tr>\n",
       "  </tbody>\n",
       "</table>\n",
       "</div>"
      ],
      "text/plain": [
       "                          mean\n",
       "Brand     Wi-Fi               \n",
       "Blue Star No      36226.771429\n",
       "CARRIER   No      35827.062500\n",
       "Croma     No      24740.000000\n",
       "Daikin    No      37361.333333\n",
       "Godrej    No      31782.294118\n",
       "Haier     No      27602.714286\n",
       "          Yes    123499.000000\n",
       "Hisense   Yes     31115.000000\n",
       "Hitachi   No      34070.388889\n",
       "IFB       No      40691.285714\n",
       "IFFALCON  No      30994.500000\n",
       "          Yes     31740.000000\n",
       "IMPEX     No      24589.000000\n",
       "Intex     No      22490.000000\n",
       "LG        No      38938.809524\n",
       "          Yes     43550.000000\n",
       "LIVPURE   Yes     38990.000000\n",
       "Lloyd     No      31366.615385\n",
       "          Yes     47990.000000\n",
       "MITASHI   No      40499.000000\n",
       "MOTOROLA  No      28490.000000\n",
       "          Yes     41990.000000\n",
       "MarQ      No      28824.333333\n",
       "Micromax  No      33490.000000\n",
       "Midea     No      29775.714286\n",
       "Nokia     Yes     37990.000000\n",
       "O-General No      45025.000000\n",
       "ONIDA     No      30374.625000\n",
       "          Yes     30990.000000\n",
       "Panasonic No      40360.200000\n",
       "          Yes     38680.900000\n",
       "SAMSUNG   No      38051.360000\n",
       "Sansui    No      26191.800000\n",
       "          Yes     34490.000000\n",
       "TCL       No      37224.000000\n",
       "TOSHIBA   No      45619.500000\n",
       "Voltas    No      31207.690476\n",
       "Whirlpool No      33364.681818"
      ]
     },
     "execution_count": 1069,
     "metadata": {},
     "output_type": "execute_result"
    }
   ],
   "source": [
    "#A/c's Price based on The Brand and Wi-Fi\n",
    "ac.groupby([\"Brand\",\"Wi-Fi\"])[\"Price\"].agg([\"mean\"])"
   ]
  },
  {
   "cell_type": "code",
   "execution_count": 607,
   "metadata": {},
   "outputs": [
    {
     "data": {
      "text/plain": [
       "<Figure size 1080x432 with 0 Axes>"
      ]
     },
     "execution_count": 607,
     "metadata": {},
     "output_type": "execute_result"
    },
    {
     "data": {
      "text/plain": [
       "<AxesSubplot:xlabel='Brand', ylabel='Price'>"
      ]
     },
     "execution_count": 607,
     "metadata": {},
     "output_type": "execute_result"
    },
    {
     "data": {
      "text/plain": [
       "(array([ 0,  1,  2,  3,  4,  5,  6,  7,  8,  9, 10, 11, 12, 13, 14, 15, 16,\n",
       "        17, 18, 19, 20, 21, 22, 23, 24, 25, 26, 27, 28, 29, 30]),\n",
       " [Text(0, 0, 'Lloyd'),\n",
       "  Text(1, 0, 'MarQ'),\n",
       "  Text(2, 0, 'Voltas'),\n",
       "  Text(3, 0, 'Midea'),\n",
       "  Text(4, 0, 'Whirlpool'),\n",
       "  Text(5, 0, 'SAMSUNG'),\n",
       "  Text(6, 0, 'Blue Star'),\n",
       "  Text(7, 0, 'Hitachi'),\n",
       "  Text(8, 0, 'Haier'),\n",
       "  Text(9, 0, 'Panasonic'),\n",
       "  Text(10, 0, 'LG'),\n",
       "  Text(11, 0, 'Daikin'),\n",
       "  Text(12, 0, 'ONIDA'),\n",
       "  Text(13, 0, 'CARRIER'),\n",
       "  Text(14, 0, 'IFB'),\n",
       "  Text(15, 0, 'Sansui'),\n",
       "  Text(16, 0, 'IFFALCON'),\n",
       "  Text(17, 0, 'Godrej'),\n",
       "  Text(18, 0, 'MOTOROLA'),\n",
       "  Text(19, 0, 'Intex'),\n",
       "  Text(20, 0, 'LIVPURE'),\n",
       "  Text(21, 0, 'Hisense'),\n",
       "  Text(22, 0, 'CANDY'),\n",
       "  Text(23, 0, 'Nokia'),\n",
       "  Text(24, 0, 'TOSHIBA'),\n",
       "  Text(25, 0, 'MITASHI'),\n",
       "  Text(26, 0, 'Micromax'),\n",
       "  Text(27, 0, 'O-General'),\n",
       "  Text(28, 0, 'Croma'),\n",
       "  Text(29, 0, 'TCL'),\n",
       "  Text(30, 0, 'LumX')])"
      ]
     },
     "execution_count": 607,
     "metadata": {},
     "output_type": "execute_result"
    },
    {
     "data": {
      "image/png": "[encoded data removed]",
      "text/plain": [
       "<Figure size 1080x432 with 1 Axes>"
      ]
     },
     "metadata": {
      "needs_background": "light"
     },
     "output_type": "display_data"
    }
   ],
   "source": [
    "#plot for Brand and pice based on Wi-fi\n",
    "plt.figure(figsize=(15,6))\n",
    "sns.barplot(x=\"Brand\", y=\"Price\",ci=None, hue=\"Wi-Fi\", data=ac)\n",
    "plt.xticks(rotation=90)"
   ]
  },
  {
   "cell_type": "markdown",
   "metadata": {},
   "source": [
    "The Barplot above infers to the Air-Conditioners Brands and their prices basedon which  A/c's having Wi-Fi and which do not. \n",
    "- The Blue bar shows the Brands which have Wi-Fi.\n",
    "- The Orange bar shows the Brands which do not have Wi-fi.\n",
    "- The x-axis refers to the prices and Y-axis refers to Brands.\n",
    "- By looking into the above graph,The insights are: \n",
    "- The Ac's containing Wi-fi are expensive compare to the A/c' which do not have Wi-Fi."
   ]
  },
  {
   "cell_type": "code",
   "execution_count": null,
   "metadata": {},
   "outputs": [],
   "source": []
  },
  {
   "cell_type": "code",
   "execution_count": 1070,
   "metadata": {},
   "outputs": [
    {
     "data": {
      "text/html": [
       "<div>\n",
       "<style scoped>\n",
       "    .dataframe tbody tr th:only-of-type {\n",
       "        vertical-align: middle;\n",
       "    }\n",
       "\n",
       "    .dataframe tbody tr th {\n",
       "        vertical-align: top;\n",
       "    }\n",
       "\n",
       "    .dataframe thead th {\n",
       "        text-align: right;\n",
       "    }\n",
       "</style>\n",
       "<table border=\"1\" class=\"dataframe\">\n",
       "  <thead>\n",
       "    <tr style=\"text-align: right;\">\n",
       "      <th></th>\n",
       "      <th></th>\n",
       "      <th>mean</th>\n",
       "    </tr>\n",
       "    <tr>\n",
       "      <th>Brand</th>\n",
       "      <th>Energy Saving</th>\n",
       "      <th></th>\n",
       "    </tr>\n",
       "  </thead>\n",
       "  <tbody>\n",
       "    <tr>\n",
       "      <th rowspan=\"3\" valign=\"top\">Blue Star</th>\n",
       "      <th>3 Star</th>\n",
       "      <td>33523.428571</td>\n",
       "    </tr>\n",
       "    <tr>\n",
       "      <th>4 Star</th>\n",
       "      <td>37990.000000</td>\n",
       "    </tr>\n",
       "    <tr>\n",
       "      <th>5 Star</th>\n",
       "      <td>40458.076923</td>\n",
       "    </tr>\n",
       "    <tr>\n",
       "      <th rowspan=\"2\" valign=\"top\">CARRIER</th>\n",
       "      <th>3 Star</th>\n",
       "      <td>33221.791667</td>\n",
       "    </tr>\n",
       "    <tr>\n",
       "      <th>5 Star</th>\n",
       "      <td>37390.225000</td>\n",
       "    </tr>\n",
       "    <tr>\n",
       "      <th>Croma</th>\n",
       "      <th>3 Star</th>\n",
       "      <td>24740.000000</td>\n",
       "    </tr>\n",
       "    <tr>\n",
       "      <th rowspan=\"3\" valign=\"top\">Daikin</th>\n",
       "      <th>3 Star</th>\n",
       "      <td>32783.111111</td>\n",
       "    </tr>\n",
       "    <tr>\n",
       "      <th>4 Star</th>\n",
       "      <td>48499.000000</td>\n",
       "    </tr>\n",
       "    <tr>\n",
       "      <th>5 Star</th>\n",
       "      <td>52394.500000</td>\n",
       "    </tr>\n",
       "    <tr>\n",
       "      <th rowspan=\"2\" valign=\"top\">Godrej</th>\n",
       "      <th>3 Star</th>\n",
       "      <td>29392.181818</td>\n",
       "    </tr>\n",
       "    <tr>\n",
       "      <th>5 Star</th>\n",
       "      <td>36164.166667</td>\n",
       "    </tr>\n",
       "    <tr>\n",
       "      <th>Haier</th>\n",
       "      <th>3 Star</th>\n",
       "      <td>39589.750000</td>\n",
       "    </tr>\n",
       "    <tr>\n",
       "      <th rowspan=\"2\" valign=\"top\">Hisense</th>\n",
       "      <th>3 Star</th>\n",
       "      <td>29240.000000</td>\n",
       "    </tr>\n",
       "    <tr>\n",
       "      <th>5 Star</th>\n",
       "      <td>32990.000000</td>\n",
       "    </tr>\n",
       "    <tr>\n",
       "      <th rowspan=\"3\" valign=\"top\">Hitachi</th>\n",
       "      <th>3 Star</th>\n",
       "      <td>33153.700000</td>\n",
       "    </tr>\n",
       "    <tr>\n",
       "      <th>4 Star</th>\n",
       "      <td>35145.000000</td>\n",
       "    </tr>\n",
       "    <tr>\n",
       "      <th>5 Star</th>\n",
       "      <td>35240.000000</td>\n",
       "    </tr>\n",
       "    <tr>\n",
       "      <th rowspan=\"2\" valign=\"top\">IFB</th>\n",
       "      <th>3 Star</th>\n",
       "      <td>40558.166667</td>\n",
       "    </tr>\n",
       "    <tr>\n",
       "      <th>5 Star</th>\n",
       "      <td>41490.000000</td>\n",
       "    </tr>\n",
       "    <tr>\n",
       "      <th rowspan=\"2\" valign=\"top\">IFFALCON</th>\n",
       "      <th>3 Star</th>\n",
       "      <td>31191.800000</td>\n",
       "    </tr>\n",
       "    <tr>\n",
       "      <th>5 Star</th>\n",
       "      <td>32990.000000</td>\n",
       "    </tr>\n",
       "    <tr>\n",
       "      <th>IMPEX</th>\n",
       "      <th>3 Star</th>\n",
       "      <td>24589.000000</td>\n",
       "    </tr>\n",
       "    <tr>\n",
       "      <th>Intex</th>\n",
       "      <th>3 Star</th>\n",
       "      <td>22490.000000</td>\n",
       "    </tr>\n",
       "    <tr>\n",
       "      <th rowspan=\"3\" valign=\"top\">LG</th>\n",
       "      <th>3 Star</th>\n",
       "      <td>38360.375000</td>\n",
       "    </tr>\n",
       "    <tr>\n",
       "      <th>4 Star</th>\n",
       "      <td>37395.428571</td>\n",
       "    </tr>\n",
       "    <tr>\n",
       "      <th>5 Star</th>\n",
       "      <td>42103.500000</td>\n",
       "    </tr>\n",
       "    <tr>\n",
       "      <th>LIVPURE</th>\n",
       "      <th>3 Star</th>\n",
       "      <td>38990.000000</td>\n",
       "    </tr>\n",
       "    <tr>\n",
       "      <th rowspan=\"2\" valign=\"top\">Lloyd</th>\n",
       "      <th>3 Star</th>\n",
       "      <td>33438.428571</td>\n",
       "    </tr>\n",
       "    <tr>\n",
       "      <th>5 Star</th>\n",
       "      <td>43862.666667</td>\n",
       "    </tr>\n",
       "    <tr>\n",
       "      <th>MITASHI</th>\n",
       "      <th>3 Star</th>\n",
       "      <td>40499.000000</td>\n",
       "    </tr>\n",
       "    <tr>\n",
       "      <th rowspan=\"2\" valign=\"top\">MOTOROLA</th>\n",
       "      <th>3 Star</th>\n",
       "      <td>35490.000000</td>\n",
       "    </tr>\n",
       "    <tr>\n",
       "      <th>5 Star</th>\n",
       "      <td>41490.000000</td>\n",
       "    </tr>\n",
       "    <tr>\n",
       "      <th rowspan=\"2\" valign=\"top\">MarQ</th>\n",
       "      <th>3 Star</th>\n",
       "      <td>28277.000000</td>\n",
       "    </tr>\n",
       "    <tr>\n",
       "      <th>5 Star</th>\n",
       "      <td>30740.000000</td>\n",
       "    </tr>\n",
       "    <tr>\n",
       "      <th>Micromax</th>\n",
       "      <th>3 Star</th>\n",
       "      <td>33490.000000</td>\n",
       "    </tr>\n",
       "    <tr>\n",
       "      <th rowspan=\"2\" valign=\"top\">Midea</th>\n",
       "      <th>3 Star</th>\n",
       "      <td>27690.000000</td>\n",
       "    </tr>\n",
       "    <tr>\n",
       "      <th>5 Star</th>\n",
       "      <td>34990.000000</td>\n",
       "    </tr>\n",
       "    <tr>\n",
       "      <th>Nokia</th>\n",
       "      <th>5 Star</th>\n",
       "      <td>37990.000000</td>\n",
       "    </tr>\n",
       "    <tr>\n",
       "      <th>O-General</th>\n",
       "      <th>3 Star</th>\n",
       "      <td>45025.000000</td>\n",
       "    </tr>\n",
       "    <tr>\n",
       "      <th rowspan=\"2\" valign=\"top\">ONIDA</th>\n",
       "      <th>3 Star</th>\n",
       "      <td>29499.625000</td>\n",
       "    </tr>\n",
       "    <tr>\n",
       "      <th>5 Star</th>\n",
       "      <td>34490.000000</td>\n",
       "    </tr>\n",
       "    <tr>\n",
       "      <th rowspan=\"3\" valign=\"top\">Panasonic</th>\n",
       "      <th>3 Star</th>\n",
       "      <td>36830.875000</td>\n",
       "    </tr>\n",
       "    <tr>\n",
       "      <th>4 Star</th>\n",
       "      <td>49990.000000</td>\n",
       "    </tr>\n",
       "    <tr>\n",
       "      <th>5 Star</th>\n",
       "      <td>44116.000000</td>\n",
       "    </tr>\n",
       "    <tr>\n",
       "      <th rowspan=\"3\" valign=\"top\">SAMSUNG</th>\n",
       "      <th>3 Star</th>\n",
       "      <td>36928.357143</td>\n",
       "    </tr>\n",
       "    <tr>\n",
       "      <th>4 Star</th>\n",
       "      <td>38163.800000</td>\n",
       "    </tr>\n",
       "    <tr>\n",
       "      <th>5 Star</th>\n",
       "      <td>40578.000000</td>\n",
       "    </tr>\n",
       "    <tr>\n",
       "      <th rowspan=\"3\" valign=\"top\">Sansui</th>\n",
       "      <th>2 Star</th>\n",
       "      <td>22499.000000</td>\n",
       "    </tr>\n",
       "    <tr>\n",
       "      <th>3 Star</th>\n",
       "      <td>27115.000000</td>\n",
       "    </tr>\n",
       "    <tr>\n",
       "      <th>5 Star</th>\n",
       "      <td>34490.000000</td>\n",
       "    </tr>\n",
       "    <tr>\n",
       "      <th>TCL</th>\n",
       "      <th>3 Star</th>\n",
       "      <td>37224.000000</td>\n",
       "    </tr>\n",
       "    <tr>\n",
       "      <th rowspan=\"2\" valign=\"top\">TOSHIBA</th>\n",
       "      <th>3 Star</th>\n",
       "      <td>33744.500000</td>\n",
       "    </tr>\n",
       "    <tr>\n",
       "      <th>5 Star</th>\n",
       "      <td>57494.500000</td>\n",
       "    </tr>\n",
       "    <tr>\n",
       "      <th rowspan=\"3\" valign=\"top\">Voltas</th>\n",
       "      <th>2 Star</th>\n",
       "      <td>27244.500000</td>\n",
       "    </tr>\n",
       "    <tr>\n",
       "      <th>3 Star</th>\n",
       "      <td>29503.315789</td>\n",
       "    </tr>\n",
       "    <tr>\n",
       "      <th>5 Star</th>\n",
       "      <td>35410.720000</td>\n",
       "    </tr>\n",
       "    <tr>\n",
       "      <th rowspan=\"3\" valign=\"top\">Whirlpool</th>\n",
       "      <th>3 Star</th>\n",
       "      <td>33305.600000</td>\n",
       "    </tr>\n",
       "    <tr>\n",
       "      <th>4 Star</th>\n",
       "      <td>44999.000000</td>\n",
       "    </tr>\n",
       "    <tr>\n",
       "      <th>5 Star</th>\n",
       "      <td>31573.333333</td>\n",
       "    </tr>\n",
       "  </tbody>\n",
       "</table>\n",
       "</div>"
      ],
      "text/plain": [
       "                                 mean\n",
       "Brand     Energy Saving              \n",
       "Blue Star  3 Star        33523.428571\n",
       "           4 Star        37990.000000\n",
       "          5 Star         40458.076923\n",
       "CARRIER    3 Star        33221.791667\n",
       "          5 Star         37390.225000\n",
       "Croma      3 Star        24740.000000\n",
       "Daikin     3 Star        32783.111111\n",
       "           4 Star        48499.000000\n",
       "          5 Star         52394.500000\n",
       "Godrej     3 Star        29392.181818\n",
       "          5 Star         36164.166667\n",
       "Haier      3 Star        39589.750000\n",
       "Hisense    3 Star        29240.000000\n",
       "          5 Star         32990.000000\n",
       "Hitachi    3 Star        33153.700000\n",
       "           4 Star        35145.000000\n",
       "          5 Star         35240.000000\n",
       "IFB        3 Star        40558.166667\n",
       "          5 Star         41490.000000\n",
       "IFFALCON   3 Star        31191.800000\n",
       "          5 Star         32990.000000\n",
       "IMPEX      3 Star        24589.000000\n",
       "Intex      3 Star        22490.000000\n",
       "LG         3 Star        38360.375000\n",
       "           4 Star        37395.428571\n",
       "          5 Star         42103.500000\n",
       "LIVPURE    3 Star        38990.000000\n",
       "Lloyd      3 Star        33438.428571\n",
       "          5 Star         43862.666667\n",
       "MITASHI    3 Star        40499.000000\n",
       "MOTOROLA   3 Star        35490.000000\n",
       "          5 Star         41490.000000\n",
       "MarQ       3 Star        28277.000000\n",
       "          5 Star         30740.000000\n",
       "Micromax   3 Star        33490.000000\n",
       "Midea      3 Star        27690.000000\n",
       "          5 Star         34990.000000\n",
       "Nokia     5 Star         37990.000000\n",
       "O-General  3 Star        45025.000000\n",
       "ONIDA      3 Star        29499.625000\n",
       "          5 Star         34490.000000\n",
       "Panasonic  3 Star        36830.875000\n",
       "           4 Star        49990.000000\n",
       "          5 Star         44116.000000\n",
       "SAMSUNG    3 Star        36928.357143\n",
       "           4 Star        38163.800000\n",
       "          5 Star         40578.000000\n",
       "Sansui     2 Star        22499.000000\n",
       "           3 Star        27115.000000\n",
       "          5 Star         34490.000000\n",
       "TCL        3 Star        37224.000000\n",
       "TOSHIBA    3 Star        33744.500000\n",
       "          5 Star         57494.500000\n",
       "Voltas     2 Star        27244.500000\n",
       "           3 Star        29503.315789\n",
       "          5 Star         35410.720000\n",
       "Whirlpool  3 Star        33305.600000\n",
       "           4 Star        44999.000000\n",
       "          5 Star         31573.333333"
      ]
     },
     "execution_count": 1070,
     "metadata": {},
     "output_type": "execute_result"
    }
   ],
   "source": [
    "#The Average price based on Brand and Energy saving\n",
    "ac.groupby([\"Brand\",\"Energy Saving\"])[\"Price\"].agg([\"mean\"])\n",
    "    "
   ]
  },
  {
   "cell_type": "code",
   "execution_count": 1071,
   "metadata": {},
   "outputs": [
    {
     "data": {
      "text/plain": [
       "<Figure size 1080x432 with 0 Axes>"
      ]
     },
     "execution_count": 1071,
     "metadata": {},
     "output_type": "execute_result"
    },
    {
     "data": {
      "text/plain": [
       "<AxesSubplot:xlabel='Brand', ylabel='Price'>"
      ]
     },
     "execution_count": 1071,
     "metadata": {},
     "output_type": "execute_result"
    },
    {
     "data": {
      "text/plain": [
       "(array([ 0,  1,  2,  3,  4,  5,  6,  7,  8,  9, 10, 11, 12, 13, 14, 15, 16,\n",
       "        17, 18, 19, 20, 21, 22, 23, 24, 25, 26, 27, 28, 29]),\n",
       " [Text(0, 0, 'CARRIER'),\n",
       "  Text(1, 0, 'SAMSUNG'),\n",
       "  Text(2, 0, 'Midea'),\n",
       "  Text(3, 0, 'MarQ'),\n",
       "  Text(4, 0, 'Whirlpool'),\n",
       "  Text(5, 0, 'Blue Star'),\n",
       "  Text(6, 0, 'Voltas'),\n",
       "  Text(7, 0, 'Lloyd'),\n",
       "  Text(8, 0, 'Panasonic'),\n",
       "  Text(9, 0, 'IFB'),\n",
       "  Text(10, 0, 'LG'),\n",
       "  Text(11, 0, 'Daikin'),\n",
       "  Text(12, 0, 'Haier'),\n",
       "  Text(13, 0, 'Hitachi'),\n",
       "  Text(14, 0, 'ONIDA'),\n",
       "  Text(15, 0, 'Sansui'),\n",
       "  Text(16, 0, 'Godrej'),\n",
       "  Text(17, 0, 'IFFALCON'),\n",
       "  Text(18, 0, 'Hisense'),\n",
       "  Text(19, 0, 'MOTOROLA'),\n",
       "  Text(20, 0, 'Intex'),\n",
       "  Text(21, 0, 'TOSHIBA'),\n",
       "  Text(22, 0, 'Nokia'),\n",
       "  Text(23, 0, 'Micromax'),\n",
       "  Text(24, 0, 'Croma'),\n",
       "  Text(25, 0, 'LIVPURE'),\n",
       "  Text(26, 0, 'IMPEX'),\n",
       "  Text(27, 0, 'O-General'),\n",
       "  Text(28, 0, 'MITASHI'),\n",
       "  Text(29, 0, 'TCL')])"
      ]
     },
     "execution_count": 1071,
     "metadata": {},
     "output_type": "execute_result"
    },
    {
     "data": {
      "image/png": "[encoded data removed]",
      "text/plain": [
       "<Figure size 1080x432 with 1 Axes>"
      ]
     },
     "metadata": {
      "needs_background": "light"
     },
     "output_type": "display_data"
    }
   ],
   "source": [
    "#The Average price based on Brand and Energy saving\n",
    "plt.figure(figsize=(15,6))\n",
    "sns.barplot(x=\"Brand\",y=\"Price\", hue=\"Energy Saving\", data=ac, ci=None)\n",
    "plt.xticks(rotation=90)"
   ]
  },
  {
   "cell_type": "markdown",
   "metadata": {},
   "source": [
    "The above bar-graph shows the A/c's Prices based on the Brands and their Energy savings,from the graph we can infer that the Prices of Ac's with 5-Star Energy savings are slightly expensive while compare to other Energy saving Ratings.\n",
    "- The Blue-bar refers to 5-star \n",
    "- The Green refers to 4-star\n",
    "- The Orange refers to 3-star \n",
    "- The Red refers 2-Star\n",
    "\n",
    "- From the graph we can see that almost all the Brands have Blue and Orange bar hence Most of the A/c's Brand are either 5-star or 3-Star. \n",
    "  "
   ]
  },
  {
   "cell_type": "code",
   "execution_count": null,
   "metadata": {},
   "outputs": [],
   "source": []
  },
  {
   "cell_type": "code",
   "execution_count": 1076,
   "metadata": {},
   "outputs": [
    {
     "data": {
      "text/html": [
       "<div>\n",
       "<style scoped>\n",
       "    .dataframe tbody tr th:only-of-type {\n",
       "        vertical-align: middle;\n",
       "    }\n",
       "\n",
       "    .dataframe tbody tr th {\n",
       "        vertical-align: top;\n",
       "    }\n",
       "\n",
       "    .dataframe thead th {\n",
       "        text-align: right;\n",
       "    }\n",
       "</style>\n",
       "<table border=\"1\" class=\"dataframe\">\n",
       "  <thead>\n",
       "    <tr style=\"text-align: right;\">\n",
       "      <th></th>\n",
       "      <th></th>\n",
       "      <th>mean</th>\n",
       "    </tr>\n",
       "    <tr>\n",
       "      <th>Brand</th>\n",
       "      <th>Rating</th>\n",
       "      <th></th>\n",
       "    </tr>\n",
       "  </thead>\n",
       "  <tbody>\n",
       "    <tr>\n",
       "      <th rowspan=\"5\" valign=\"top\">Blue Star</th>\n",
       "      <th>3.2</th>\n",
       "      <td>55500.000000</td>\n",
       "    </tr>\n",
       "    <tr>\n",
       "      <th>3.9</th>\n",
       "      <td>44893.333333</td>\n",
       "    </tr>\n",
       "    <tr>\n",
       "      <th>4.0</th>\n",
       "      <td>42949.500000</td>\n",
       "    </tr>\n",
       "    <tr>\n",
       "      <th>4.1</th>\n",
       "      <td>36990.000000</td>\n",
       "    </tr>\n",
       "    <tr>\n",
       "      <th>4.2</th>\n",
       "      <td>29479.750000</td>\n",
       "    </tr>\n",
       "    <tr>\n",
       "      <th>...</th>\n",
       "      <th>...</th>\n",
       "      <td>...</td>\n",
       "    </tr>\n",
       "    <tr>\n",
       "      <th rowspan=\"5\" valign=\"top\">Whirlpool</th>\n",
       "      <th>4.1</th>\n",
       "      <td>25990.000000</td>\n",
       "    </tr>\n",
       "    <tr>\n",
       "      <th>4.2</th>\n",
       "      <td>32951.384615</td>\n",
       "    </tr>\n",
       "    <tr>\n",
       "      <th>4.3</th>\n",
       "      <td>47999.000000</td>\n",
       "    </tr>\n",
       "    <tr>\n",
       "      <th>4.5</th>\n",
       "      <td>44999.000000</td>\n",
       "    </tr>\n",
       "    <tr>\n",
       "      <th>4.6</th>\n",
       "      <td>34699.000000</td>\n",
       "    </tr>\n",
       "  </tbody>\n",
       "</table>\n",
       "<p>112 rows × 1 columns</p>\n",
       "</div>"
      ],
      "text/plain": [
       "                          mean\n",
       "Brand     Rating              \n",
       "Blue Star 3.2     55500.000000\n",
       "          3.9     44893.333333\n",
       "          4.0     42949.500000\n",
       "          4.1     36990.000000\n",
       "          4.2     29479.750000\n",
       "...                        ...\n",
       "Whirlpool 4.1     25990.000000\n",
       "          4.2     32951.384615\n",
       "          4.3     47999.000000\n",
       "          4.5     44999.000000\n",
       "          4.6     34699.000000\n",
       "\n",
       "[112 rows x 1 columns]"
      ]
     },
     "execution_count": 1076,
     "metadata": {},
     "output_type": "execute_result"
    }
   ],
   "source": [
    "#Price Based on Brand and Rating.\n",
    "ac.groupby([\"Brand\",\"Rating\"])[\"Price\"].agg([\"mean\"])"
   ]
  },
  {
   "cell_type": "code",
   "execution_count": 1077,
   "metadata": {
    "scrolled": true
   },
   "outputs": [
    {
     "data": {
      "text/plain": [
       "<Figure size 1080x432 with 0 Axes>"
      ]
     },
     "execution_count": 1077,
     "metadata": {},
     "output_type": "execute_result"
    },
    {
     "data": {
      "text/plain": [
       "<AxesSubplot:xlabel='Rating', ylabel='Price'>"
      ]
     },
     "execution_count": 1077,
     "metadata": {},
     "output_type": "execute_result"
    },
    {
     "data": {
      "image/png": "[encoded data removed]",
      "text/plain": [
       "<Figure size 1080x432 with 1 Axes>"
      ]
     },
     "metadata": {
      "needs_background": "light"
     },
     "output_type": "display_data"
    }
   ],
   "source": [
    "plt.figure(figsize=(15,6))\n",
    "sns.scatterplot(x=\"Rating\", y=\"Price\",hue=\"Brand\",data=ac)"
   ]
  },
  {
   "cell_type": "markdown",
   "metadata": {},
   "source": [
    "The scatter-plot, shows the Analysis of price based on the Brand and Rating. As we can see from the above plot\n",
    "- The x-axis shows the Rating values.\n",
    "- The y-axis shows the Price values.\n",
    "The Ratings and prices values are scattered based on the brands.as we can see there are multiple colors assigned tothe brand by using hue. From the above graph we can see that most of the brand ratings lies above 3.8-4.8 (approx)."
   ]
  },
  {
   "cell_type": "markdown",
   "metadata": {},
   "source": [
    "### Conclusion"
   ]
  },
  {
   "cell_type": "markdown",
   "metadata": {},
   "source": [
    "Based on The Problem Statement,I have retrived Air conditioners data from flipkart using web scraping,I have performed different types of analysis and Here are the List of wide range of Air-Conditioners That are available to choose from."
   ]
  },
  {
   "cell_type": "code",
   "execution_count": null,
   "metadata": {},
   "outputs": [],
   "source": []
  },
  {
   "cell_type": "code",
   "execution_count": null,
   "metadata": {},
   "outputs": [],
   "source": [
    "\n",
    "ac1=ac.loc[(ac[\"Price\"]<40000)&(ac[\"Energy Saving\"]==\"5 Star\")&(ac[\"Type\"]==\"Split\")&(ac[\"Capacity\"]==\" 1.5 Ton\")&(ac[\"Rating\"]>4.2),:]"
   ]
  },
  {
   "cell_type": "code",
   "execution_count": null,
   "metadata": {},
   "outputs": [],
   "source": [
    "ac1"
   ]
  },
  {
   "cell_type": "markdown",
   "metadata": {},
   "source": []
  },
  {
   "cell_type": "code",
   "execution_count": 1121,
   "metadata": {},
   "outputs": [],
   "source": [
    "ac.to_csv(\"C:\\\\Users\\\\pruthvi ch\\\\Air_Conditioners1.csv\")"
   ]
  }
 ],
 "metadata": {
  "kernelspec": {
   "display_name": "Python 3",
   "language": "python",
   "name": "python3"
  },
  "language_info": {
   "codemirror_mode": {
    "name": "ipython",
    "version": 3
   },
   "file_extension": ".py",
   "mimetype": "text/x-python",
   "name": "python",
   "nbconvert_exporter": "python",
   "pygments_lexer": "ipython3",
   "version": "3.8.5"
  }
 },
 "nbformat": 4,
 "nbformat_minor": 4
}
